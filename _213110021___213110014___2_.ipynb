{
  "nbformat": 4,
  "nbformat_minor": 0,
  "metadata": {
    "colab": {
      "name": "<213110021_213110014>_<2>.ipynb",
      "provenance": [],
      "collapsed_sections": []
    },
    "kernelspec": {
      "name": "python3",
      "display_name": "Python 3"
    },
    "language_info": {
      "name": "python"
    }
  },
  "cells": [
    {
      "cell_type": "markdown",
      "source": [
        "**2.(a) Visualization, preprocessing and transformation**"
      ],
      "metadata": {
        "id": "fm3N3FoFqFj2"
      }
    },
    {
      "cell_type": "code",
      "execution_count": 13,
      "metadata": {
        "id": "_EnNzFuWl2jS"
      },
      "outputs": [],
      "source": [
        "#importing required libraries \n",
        "from sklearn.cluster import KMeans\n",
        "import pandas as pd\n",
        "from sklearn.preprocessing import MinMaxScaler\n",
        "from matplotlib import pyplot as plt\n",
        "%matplotlib inline\n",
        "import seaborn as sns"
      ]
    },
    {
      "cell_type": "code",
      "source": [
        "#reading Clustering data from given link\n",
        "c_data= pd.read_csv('https://www.ee.iitb.ac.in/~asethi/Dump/DataClustering.csv')\n",
        "c_data.head()\n",
        "coln_names = ['x1','x2','x3','x4']\n",
        "c_data_scaled = c_data.copy()\n",
        "variables= c_data_scaled[coln_names]\n",
        "variables\n"
      ],
      "metadata": {
        "colab": {
          "base_uri": "https://localhost:8080/",
          "height": 423
        },
        "id": "3g6Ao_Ivl716",
        "outputId": "be9ab530-ba37-4d76-e697-9b1a346b6d77"
      },
      "execution_count": 14,
      "outputs": [
        {
          "output_type": "execute_result",
          "data": {
            "text/plain": [
              "           x1        x2        x3        x4\n",
              "0    0.832354  1.389428  0.962226  0.993671\n",
              "1    1.256087  1.500487  0.904118  0.738035\n",
              "2    0.976953  1.058524  1.217530  1.357238\n",
              "3    1.014365  1.122684  1.195847  0.984144\n",
              "4    1.041386  1.219014  0.864819  1.720825\n",
              "..        ...       ...       ...       ...\n",
              "346  0.203877  0.195724  2.766999  1.826532\n",
              "347  0.229380  0.131514  0.704255  2.762919\n",
              "348  0.095878  0.107426  0.946789  3.434620\n",
              "349  0.111690  0.130970  1.098922  2.295701\n",
              "350  0.113965  0.283822  1.318260  1.494283\n",
              "\n",
              "[351 rows x 4 columns]"
            ],
            "text/html": [
              "\n",
              "  <div id=\"df-7b915586-46a3-4a9d-960d-d72c184b0d38\">\n",
              "    <div class=\"colab-df-container\">\n",
              "      <div>\n",
              "<style scoped>\n",
              "    .dataframe tbody tr th:only-of-type {\n",
              "        vertical-align: middle;\n",
              "    }\n",
              "\n",
              "    .dataframe tbody tr th {\n",
              "        vertical-align: top;\n",
              "    }\n",
              "\n",
              "    .dataframe thead th {\n",
              "        text-align: right;\n",
              "    }\n",
              "</style>\n",
              "<table border=\"1\" class=\"dataframe\">\n",
              "  <thead>\n",
              "    <tr style=\"text-align: right;\">\n",
              "      <th></th>\n",
              "      <th>x1</th>\n",
              "      <th>x2</th>\n",
              "      <th>x3</th>\n",
              "      <th>x4</th>\n",
              "    </tr>\n",
              "  </thead>\n",
              "  <tbody>\n",
              "    <tr>\n",
              "      <th>0</th>\n",
              "      <td>0.832354</td>\n",
              "      <td>1.389428</td>\n",
              "      <td>0.962226</td>\n",
              "      <td>0.993671</td>\n",
              "    </tr>\n",
              "    <tr>\n",
              "      <th>1</th>\n",
              "      <td>1.256087</td>\n",
              "      <td>1.500487</td>\n",
              "      <td>0.904118</td>\n",
              "      <td>0.738035</td>\n",
              "    </tr>\n",
              "    <tr>\n",
              "      <th>2</th>\n",
              "      <td>0.976953</td>\n",
              "      <td>1.058524</td>\n",
              "      <td>1.217530</td>\n",
              "      <td>1.357238</td>\n",
              "    </tr>\n",
              "    <tr>\n",
              "      <th>3</th>\n",
              "      <td>1.014365</td>\n",
              "      <td>1.122684</td>\n",
              "      <td>1.195847</td>\n",
              "      <td>0.984144</td>\n",
              "    </tr>\n",
              "    <tr>\n",
              "      <th>4</th>\n",
              "      <td>1.041386</td>\n",
              "      <td>1.219014</td>\n",
              "      <td>0.864819</td>\n",
              "      <td>1.720825</td>\n",
              "    </tr>\n",
              "    <tr>\n",
              "      <th>...</th>\n",
              "      <td>...</td>\n",
              "      <td>...</td>\n",
              "      <td>...</td>\n",
              "      <td>...</td>\n",
              "    </tr>\n",
              "    <tr>\n",
              "      <th>346</th>\n",
              "      <td>0.203877</td>\n",
              "      <td>0.195724</td>\n",
              "      <td>2.766999</td>\n",
              "      <td>1.826532</td>\n",
              "    </tr>\n",
              "    <tr>\n",
              "      <th>347</th>\n",
              "      <td>0.229380</td>\n",
              "      <td>0.131514</td>\n",
              "      <td>0.704255</td>\n",
              "      <td>2.762919</td>\n",
              "    </tr>\n",
              "    <tr>\n",
              "      <th>348</th>\n",
              "      <td>0.095878</td>\n",
              "      <td>0.107426</td>\n",
              "      <td>0.946789</td>\n",
              "      <td>3.434620</td>\n",
              "    </tr>\n",
              "    <tr>\n",
              "      <th>349</th>\n",
              "      <td>0.111690</td>\n",
              "      <td>0.130970</td>\n",
              "      <td>1.098922</td>\n",
              "      <td>2.295701</td>\n",
              "    </tr>\n",
              "    <tr>\n",
              "      <th>350</th>\n",
              "      <td>0.113965</td>\n",
              "      <td>0.283822</td>\n",
              "      <td>1.318260</td>\n",
              "      <td>1.494283</td>\n",
              "    </tr>\n",
              "  </tbody>\n",
              "</table>\n",
              "<p>351 rows × 4 columns</p>\n",
              "</div>\n",
              "      <button class=\"colab-df-convert\" onclick=\"convertToInteractive('df-7b915586-46a3-4a9d-960d-d72c184b0d38')\"\n",
              "              title=\"Convert this dataframe to an interactive table.\"\n",
              "              style=\"display:none;\">\n",
              "        \n",
              "  <svg xmlns=\"http://www.w3.org/2000/svg\" height=\"24px\"viewBox=\"0 0 24 24\"\n",
              "       width=\"24px\">\n",
              "    <path d=\"M0 0h24v24H0V0z\" fill=\"none\"/>\n",
              "    <path d=\"M18.56 5.44l.94 2.06.94-2.06 2.06-.94-2.06-.94-.94-2.06-.94 2.06-2.06.94zm-11 1L8.5 8.5l.94-2.06 2.06-.94-2.06-.94L8.5 2.5l-.94 2.06-2.06.94zm10 10l.94 2.06.94-2.06 2.06-.94-2.06-.94-.94-2.06-.94 2.06-2.06.94z\"/><path d=\"M17.41 7.96l-1.37-1.37c-.4-.4-.92-.59-1.43-.59-.52 0-1.04.2-1.43.59L10.3 9.45l-7.72 7.72c-.78.78-.78 2.05 0 2.83L4 21.41c.39.39.9.59 1.41.59.51 0 1.02-.2 1.41-.59l7.78-7.78 2.81-2.81c.8-.78.8-2.07 0-2.86zM5.41 20L4 18.59l7.72-7.72 1.47 1.35L5.41 20z\"/>\n",
              "  </svg>\n",
              "      </button>\n",
              "      \n",
              "  <style>\n",
              "    .colab-df-container {\n",
              "      display:flex;\n",
              "      flex-wrap:wrap;\n",
              "      gap: 12px;\n",
              "    }\n",
              "\n",
              "    .colab-df-convert {\n",
              "      background-color: #E8F0FE;\n",
              "      border: none;\n",
              "      border-radius: 50%;\n",
              "      cursor: pointer;\n",
              "      display: none;\n",
              "      fill: #1967D2;\n",
              "      height: 32px;\n",
              "      padding: 0 0 0 0;\n",
              "      width: 32px;\n",
              "    }\n",
              "\n",
              "    .colab-df-convert:hover {\n",
              "      background-color: #E2EBFA;\n",
              "      box-shadow: 0px 1px 2px rgba(60, 64, 67, 0.3), 0px 1px 3px 1px rgba(60, 64, 67, 0.15);\n",
              "      fill: #174EA6;\n",
              "    }\n",
              "\n",
              "    [theme=dark] .colab-df-convert {\n",
              "      background-color: #3B4455;\n",
              "      fill: #D2E3FC;\n",
              "    }\n",
              "\n",
              "    [theme=dark] .colab-df-convert:hover {\n",
              "      background-color: #434B5C;\n",
              "      box-shadow: 0px 1px 3px 1px rgba(0, 0, 0, 0.15);\n",
              "      filter: drop-shadow(0px 1px 2px rgba(0, 0, 0, 0.3));\n",
              "      fill: #FFFFFF;\n",
              "    }\n",
              "  </style>\n",
              "\n",
              "      <script>\n",
              "        const buttonEl =\n",
              "          document.querySelector('#df-7b915586-46a3-4a9d-960d-d72c184b0d38 button.colab-df-convert');\n",
              "        buttonEl.style.display =\n",
              "          google.colab.kernel.accessAllowed ? 'block' : 'none';\n",
              "\n",
              "        async function convertToInteractive(key) {\n",
              "          const element = document.querySelector('#df-7b915586-46a3-4a9d-960d-d72c184b0d38');\n",
              "          const dataTable =\n",
              "            await google.colab.kernel.invokeFunction('convertToInteractive',\n",
              "                                                     [key], {});\n",
              "          if (!dataTable) return;\n",
              "\n",
              "          const docLinkHtml = 'Like what you see? Visit the ' +\n",
              "            '<a target=\"_blank\" href=https://colab.research.google.com/notebooks/data_table.ipynb>data table notebook</a>'\n",
              "            + ' to learn more about interactive tables.';\n",
              "          element.innerHTML = '';\n",
              "          dataTable['output_type'] = 'display_data';\n",
              "          await google.colab.output.renderOutput(dataTable, element);\n",
              "          const docLink = document.createElement('div');\n",
              "          docLink.innerHTML = docLinkHtml;\n",
              "          element.appendChild(docLink);\n",
              "        }\n",
              "      </script>\n",
              "    </div>\n",
              "  </div>\n",
              "  "
            ]
          },
          "metadata": {},
          "execution_count": 14
        }
      ]
    },
    {
      "cell_type": "code",
      "source": [
        "#checking data types\n",
        "print(c_data.dtypes)"
      ],
      "metadata": {
        "colab": {
          "base_uri": "https://localhost:8080/"
        },
        "id": "CbrKTZTq0UOs",
        "outputId": "252728e8-20bc-4f58-c35b-aee01d9db378"
      },
      "execution_count": 15,
      "outputs": [
        {
          "output_type": "stream",
          "name": "stdout",
          "text": [
            "x1    float64\n",
            "x2    float64\n",
            "x3    float64\n",
            "x4    float64\n",
            "dtype: object\n"
          ]
        }
      ]
    },
    {
      "cell_type": "markdown",
      "source": [
        "**Observation:**\n",
        "All data are float type."
      ],
      "metadata": {
        "id": "fuJjLUKxcQWM"
      }
    },
    {
      "cell_type": "code",
      "source": [
        "#checking whether there are null entries or not\n",
        "for col in c_data.columns.values:\n",
        "   vals = pd.unique(c_data[col])\n",
        "   print(col + ' has ' + str(len(vals)) + ' unique values and '+ str(c_data[col].isnull().sum()) + ' null entries')\n",
        "   if len(vals) < 20:\n",
        "     lst_str=''\n",
        "     for n in range(0, len(vals)):\n",
        "       lst_str= lst_str + str(vals[n]) + ','"
      ],
      "metadata": {
        "colab": {
          "base_uri": "https://localhost:8080/"
        },
        "id": "shGn3Lab0ZSS",
        "outputId": "ad08abc4-a8e9-4adb-be2d-6b660d4ed039"
      },
      "execution_count": 16,
      "outputs": [
        {
          "output_type": "stream",
          "name": "stdout",
          "text": [
            "x1 has 351 unique values and 0 null entries\n",
            "x2 has 351 unique values and 0 null entries\n",
            "x3 has 351 unique values and 0 null entries\n",
            "x4 has 351 unique values and 0 null entries\n"
          ]
        }
      ]
    },
    {
      "cell_type": "markdown",
      "source": [
        "**Observation:**\n",
        "There are no null entries."
      ],
      "metadata": {
        "id": "nDclY03lcZ2A"
      }
    },
    {
      "cell_type": "code",
      "source": [
        "#plotting heatmap for correlation matrix\n",
        "corrMatrix = c_data.corr(method='spearman')\n",
        "fig, ax= plt.subplots(figsize=(20,16))\n",
        "sns.heatmap(abs(corrMatrix), annot=False)\n",
        "plt.show()"
      ],
      "metadata": {
        "colab": {
          "base_uri": "https://localhost:8080/",
          "height": 922
        },
        "id": "R_eDSkrr0-et",
        "outputId": "0bfcc9ae-d741-4462-870c-6b6b87746def"
      },
      "execution_count": 17,
      "outputs": [
        {
          "output_type": "display_data",
          "data": {
            "text/plain": [
              "<Figure size 1440x1152 with 2 Axes>"
            ],
            "image/png": "[encoded data removed]"
          },
          "metadata": {
            "needs_background": "light"
          }
        }
      ]
    },
    {
      "cell_type": "markdown",
      "source": [
        "**Observation:**\n",
        "There is no significant co-relation between features."
      ],
      "metadata": {
        "id": "PyeC1-9aQn0D"
      }
    },
    {
      "cell_type": "code",
      "source": [
        "#plotting histogram to check distribution of data\n",
        "for col in c_data.columns.values:\n",
        "  if (c_data[col].dtypes == 'float64')| (c_data[col].dtypes == 'object'):\n",
        "    plt.hist(c_data[col])\n",
        "    plt.xlabel(col)\n",
        "    plt.show()"
      ],
      "metadata": {
        "colab": {
          "base_uri": "https://localhost:8080/",
          "height": 1000
        },
        "id": "3r3Rr6uM8ttx",
        "outputId": "a02ba3ed-2397-46d6-fea1-365df2429b81"
      },
      "execution_count": 18,
      "outputs": [
        {
          "output_type": "display_data",
          "data": {
            "text/plain": [
              "<Figure size 432x288 with 1 Axes>"
            ],
            "image/png": "[encoded data removed]"
          },
          "metadata": {
            "needs_background": "light"
          }
        },
        {
          "output_type": "display_data",
          "data": {
            "text/plain": [
              "<Figure size 432x288 with 1 Axes>"
            ],
            "image/png": "[encoded data removed]"
          },
          "metadata": {
            "needs_background": "light"
          }
        },
        {
          "output_type": "display_data",
          "data": {
            "text/plain": [
              "<Figure size 432x288 with 1 Axes>"
            ],
            "image/png": "[encoded data removed]"
          },
          "metadata": {
            "needs_background": "light"
          }
        },
        {
          "output_type": "display_data",
          "data": {
            "text/plain": [
              "<Figure size 432x288 with 1 Axes>"
            ],
            "image/png": "[encoded data removed]"
          },
          "metadata": {
            "needs_background": "light"
          }
        }
      ]
    },
    {
      "cell_type": "markdown",
      "source": [
        "**Observation:**\n",
        "All features are positively skewed. So, we can't use standard scalar. We are going to use MinMaxScalar."
      ],
      "metadata": {
        "id": "tFg6G9j1RNrr"
      }
    },
    {
      "cell_type": "code",
      "source": [
        "#data is scaled by using MinMaxScalar\n",
        "scaler = MinMaxScaler()\n",
        "c_data_scaled[coln_names] = scaler.fit_transform(variables.values)\n",
        "c_data_scaled"
      ],
      "metadata": {
        "colab": {
          "base_uri": "https://localhost:8080/",
          "height": 423
        },
        "id": "Saf-eCkdwiGw",
        "outputId": "50df150c-3139-4911-ad22-2d95e08d60a0"
      },
      "execution_count": 19,
      "outputs": [
        {
          "output_type": "execute_result",
          "data": {
            "text/plain": [
              "           x1        x2        x3        x4\n",
              "0    0.394137  0.552636  0.048461  0.101559\n",
              "1    0.607227  0.598356  0.043724  0.067448\n",
              "2    0.466854  0.416411  0.069271  0.150071\n",
              "3    0.485668  0.442824  0.067504  0.100287\n",
              "4    0.499257  0.482481  0.040521  0.198586\n",
              "..        ...       ...       ...       ...\n",
              "346  0.078085  0.061217  0.195574  0.212692\n",
              "347  0.090910  0.034783  0.027432  0.337638\n",
              "348  0.023773  0.024867  0.047202  0.427267\n",
              "349  0.031725  0.034559  0.059603  0.275295\n",
              "350  0.032869  0.097485  0.077482  0.168358\n",
              "\n",
              "[351 rows x 4 columns]"
            ],
            "text/html": [
              "\n",
              "  <div id=\"df-12c0e8d1-1601-48ab-9a45-c81a90a737d5\">\n",
              "    <div class=\"colab-df-container\">\n",
              "      <div>\n",
              "<style scoped>\n",
              "    .dataframe tbody tr th:only-of-type {\n",
              "        vertical-align: middle;\n",
              "    }\n",
              "\n",
              "    .dataframe tbody tr th {\n",
              "        vertical-align: top;\n",
              "    }\n",
              "\n",
              "    .dataframe thead th {\n",
              "        text-align: right;\n",
              "    }\n",
              "</style>\n",
              "<table border=\"1\" class=\"dataframe\">\n",
              "  <thead>\n",
              "    <tr style=\"text-align: right;\">\n",
              "      <th></th>\n",
              "      <th>x1</th>\n",
              "      <th>x2</th>\n",
              "      <th>x3</th>\n",
              "      <th>x4</th>\n",
              "    </tr>\n",
              "  </thead>\n",
              "  <tbody>\n",
              "    <tr>\n",
              "      <th>0</th>\n",
              "      <td>0.394137</td>\n",
              "      <td>0.552636</td>\n",
              "      <td>0.048461</td>\n",
              "      <td>0.101559</td>\n",
              "    </tr>\n",
              "    <tr>\n",
              "      <th>1</th>\n",
              "      <td>0.607227</td>\n",
              "      <td>0.598356</td>\n",
              "      <td>0.043724</td>\n",
              "      <td>0.067448</td>\n",
              "    </tr>\n",
              "    <tr>\n",
              "      <th>2</th>\n",
              "      <td>0.466854</td>\n",
              "      <td>0.416411</td>\n",
              "      <td>0.069271</td>\n",
              "      <td>0.150071</td>\n",
              "    </tr>\n",
              "    <tr>\n",
              "      <th>3</th>\n",
              "      <td>0.485668</td>\n",
              "      <td>0.442824</td>\n",
              "      <td>0.067504</td>\n",
              "      <td>0.100287</td>\n",
              "    </tr>\n",
              "    <tr>\n",
              "      <th>4</th>\n",
              "      <td>0.499257</td>\n",
              "      <td>0.482481</td>\n",
              "      <td>0.040521</td>\n",
              "      <td>0.198586</td>\n",
              "    </tr>\n",
              "    <tr>\n",
              "      <th>...</th>\n",
              "      <td>...</td>\n",
              "      <td>...</td>\n",
              "      <td>...</td>\n",
              "      <td>...</td>\n",
              "    </tr>\n",
              "    <tr>\n",
              "      <th>346</th>\n",
              "      <td>0.078085</td>\n",
              "      <td>0.061217</td>\n",
              "      <td>0.195574</td>\n",
              "      <td>0.212692</td>\n",
              "    </tr>\n",
              "    <tr>\n",
              "      <th>347</th>\n",
              "      <td>0.090910</td>\n",
              "      <td>0.034783</td>\n",
              "      <td>0.027432</td>\n",
              "      <td>0.337638</td>\n",
              "    </tr>\n",
              "    <tr>\n",
              "      <th>348</th>\n",
              "      <td>0.023773</td>\n",
              "      <td>0.024867</td>\n",
              "      <td>0.047202</td>\n",
              "      <td>0.427267</td>\n",
              "    </tr>\n",
              "    <tr>\n",
              "      <th>349</th>\n",
              "      <td>0.031725</td>\n",
              "      <td>0.034559</td>\n",
              "      <td>0.059603</td>\n",
              "      <td>0.275295</td>\n",
              "    </tr>\n",
              "    <tr>\n",
              "      <th>350</th>\n",
              "      <td>0.032869</td>\n",
              "      <td>0.097485</td>\n",
              "      <td>0.077482</td>\n",
              "      <td>0.168358</td>\n",
              "    </tr>\n",
              "  </tbody>\n",
              "</table>\n",
              "<p>351 rows × 4 columns</p>\n",
              "</div>\n",
              "      <button class=\"colab-df-convert\" onclick=\"convertToInteractive('df-12c0e8d1-1601-48ab-9a45-c81a90a737d5')\"\n",
              "              title=\"Convert this dataframe to an interactive table.\"\n",
              "              style=\"display:none;\">\n",
              "        \n",
              "  <svg xmlns=\"http://www.w3.org/2000/svg\" height=\"24px\"viewBox=\"0 0 24 24\"\n",
              "       width=\"24px\">\n",
              "    <path d=\"M0 0h24v24H0V0z\" fill=\"none\"/>\n",
              "    <path d=\"M18.56 5.44l.94 2.06.94-2.06 2.06-.94-2.06-.94-.94-2.06-.94 2.06-2.06.94zm-11 1L8.5 8.5l.94-2.06 2.06-.94-2.06-.94L8.5 2.5l-.94 2.06-2.06.94zm10 10l.94 2.06.94-2.06 2.06-.94-2.06-.94-.94-2.06-.94 2.06-2.06.94z\"/><path d=\"M17.41 7.96l-1.37-1.37c-.4-.4-.92-.59-1.43-.59-.52 0-1.04.2-1.43.59L10.3 9.45l-7.72 7.72c-.78.78-.78 2.05 0 2.83L4 21.41c.39.39.9.59 1.41.59.51 0 1.02-.2 1.41-.59l7.78-7.78 2.81-2.81c.8-.78.8-2.07 0-2.86zM5.41 20L4 18.59l7.72-7.72 1.47 1.35L5.41 20z\"/>\n",
              "  </svg>\n",
              "      </button>\n",
              "      \n",
              "  <style>\n",
              "    .colab-df-container {\n",
              "      display:flex;\n",
              "      flex-wrap:wrap;\n",
              "      gap: 12px;\n",
              "    }\n",
              "\n",
              "    .colab-df-convert {\n",
              "      background-color: #E8F0FE;\n",
              "      border: none;\n",
              "      border-radius: 50%;\n",
              "      cursor: pointer;\n",
              "      display: none;\n",
              "      fill: #1967D2;\n",
              "      height: 32px;\n",
              "      padding: 0 0 0 0;\n",
              "      width: 32px;\n",
              "    }\n",
              "\n",
              "    .colab-df-convert:hover {\n",
              "      background-color: #E2EBFA;\n",
              "      box-shadow: 0px 1px 2px rgba(60, 64, 67, 0.3), 0px 1px 3px 1px rgba(60, 64, 67, 0.15);\n",
              "      fill: #174EA6;\n",
              "    }\n",
              "\n",
              "    [theme=dark] .colab-df-convert {\n",
              "      background-color: #3B4455;\n",
              "      fill: #D2E3FC;\n",
              "    }\n",
              "\n",
              "    [theme=dark] .colab-df-convert:hover {\n",
              "      background-color: #434B5C;\n",
              "      box-shadow: 0px 1px 3px 1px rgba(0, 0, 0, 0.15);\n",
              "      filter: drop-shadow(0px 1px 2px rgba(0, 0, 0, 0.3));\n",
              "      fill: #FFFFFF;\n",
              "    }\n",
              "  </style>\n",
              "\n",
              "      <script>\n",
              "        const buttonEl =\n",
              "          document.querySelector('#df-12c0e8d1-1601-48ab-9a45-c81a90a737d5 button.colab-df-convert');\n",
              "        buttonEl.style.display =\n",
              "          google.colab.kernel.accessAllowed ? 'block' : 'none';\n",
              "\n",
              "        async function convertToInteractive(key) {\n",
              "          const element = document.querySelector('#df-12c0e8d1-1601-48ab-9a45-c81a90a737d5');\n",
              "          const dataTable =\n",
              "            await google.colab.kernel.invokeFunction('convertToInteractive',\n",
              "                                                     [key], {});\n",
              "          if (!dataTable) return;\n",
              "\n",
              "          const docLinkHtml = 'Like what you see? Visit the ' +\n",
              "            '<a target=\"_blank\" href=https://colab.research.google.com/notebooks/data_table.ipynb>data table notebook</a>'\n",
              "            + ' to learn more about interactive tables.';\n",
              "          element.innerHTML = '';\n",
              "          dataTable['output_type'] = 'display_data';\n",
              "          await google.colab.output.renderOutput(dataTable, element);\n",
              "          const docLink = document.createElement('div');\n",
              "          docLink.innerHTML = docLinkHtml;\n",
              "          element.appendChild(docLink);\n",
              "        }\n",
              "      </script>\n",
              "    </div>\n",
              "  </div>\n",
              "  "
            ]
          },
          "metadata": {},
          "execution_count": 19
        }
      ]
    },
    {
      "cell_type": "code",
      "source": [
        "#data is scalaed in range of 1 to 10\n",
        "scaler = MinMaxScaler(feature_range=(1,10))\n",
        "c_data_scaled[coln_names] = scaler.fit_transform(variables.values)\n",
        "c_data_scaled.describe()\n"
      ],
      "metadata": {
        "colab": {
          "base_uri": "https://localhost:8080/",
          "height": 300
        },
        "id": "L9BlZGZHxShs",
        "outputId": "cea16bc7-dfb8-4d3c-834c-d0855fa7f5af"
      },
      "execution_count": 20,
      "outputs": [
        {
          "output_type": "execute_result",
          "data": {
            "text/plain": [
              "               x1          x2          x3          x4\n",
              "count  351.000000  351.000000  351.000000  351.000000\n",
              "mean     2.041951    2.577311    1.936207    2.501573\n",
              "std      1.545378    1.893382    1.223723    1.157702\n",
              "min      1.000000    1.000000    1.000000    1.000000\n",
              "25%      1.283947    1.252815    1.328269    1.751037\n",
              "50%      1.474226    1.439654    1.525136    2.150999\n",
              "75%      1.742079    3.992605    1.872924    2.791646\n",
              "max     10.000000   10.000000   10.000000   10.000000"
            ],
            "text/html": [
              "\n",
              "  <div id=\"df-df5de0e4-693e-44f9-8a1b-4cb4f6d530e9\">\n",
              "    <div class=\"colab-df-container\">\n",
              "      <div>\n",
              "<style scoped>\n",
              "    .dataframe tbody tr th:only-of-type {\n",
              "        vertical-align: middle;\n",
              "    }\n",
              "\n",
              "    .dataframe tbody tr th {\n",
              "        vertical-align: top;\n",
              "    }\n",
              "\n",
              "    .dataframe thead th {\n",
              "        text-align: right;\n",
              "    }\n",
              "</style>\n",
              "<table border=\"1\" class=\"dataframe\">\n",
              "  <thead>\n",
              "    <tr style=\"text-align: right;\">\n",
              "      <th></th>\n",
              "      <th>x1</th>\n",
              "      <th>x2</th>\n",
              "      <th>x3</th>\n",
              "      <th>x4</th>\n",
              "    </tr>\n",
              "  </thead>\n",
              "  <tbody>\n",
              "    <tr>\n",
              "      <th>count</th>\n",
              "      <td>351.000000</td>\n",
              "      <td>351.000000</td>\n",
              "      <td>351.000000</td>\n",
              "      <td>351.000000</td>\n",
              "    </tr>\n",
              "    <tr>\n",
              "      <th>mean</th>\n",
              "      <td>2.041951</td>\n",
              "      <td>2.577311</td>\n",
              "      <td>1.936207</td>\n",
              "      <td>2.501573</td>\n",
              "    </tr>\n",
              "    <tr>\n",
              "      <th>std</th>\n",
              "      <td>1.545378</td>\n",
              "      <td>1.893382</td>\n",
              "      <td>1.223723</td>\n",
              "      <td>1.157702</td>\n",
              "    </tr>\n",
              "    <tr>\n",
              "      <th>min</th>\n",
              "      <td>1.000000</td>\n",
              "      <td>1.000000</td>\n",
              "      <td>1.000000</td>\n",
              "      <td>1.000000</td>\n",
              "    </tr>\n",
              "    <tr>\n",
              "      <th>25%</th>\n",
              "      <td>1.283947</td>\n",
              "      <td>1.252815</td>\n",
              "      <td>1.328269</td>\n",
              "      <td>1.751037</td>\n",
              "    </tr>\n",
              "    <tr>\n",
              "      <th>50%</th>\n",
              "      <td>1.474226</td>\n",
              "      <td>1.439654</td>\n",
              "      <td>1.525136</td>\n",
              "      <td>2.150999</td>\n",
              "    </tr>\n",
              "    <tr>\n",
              "      <th>75%</th>\n",
              "      <td>1.742079</td>\n",
              "      <td>3.992605</td>\n",
              "      <td>1.872924</td>\n",
              "      <td>2.791646</td>\n",
              "    </tr>\n",
              "    <tr>\n",
              "      <th>max</th>\n",
              "      <td>10.000000</td>\n",
              "      <td>10.000000</td>\n",
              "      <td>10.000000</td>\n",
              "      <td>10.000000</td>\n",
              "    </tr>\n",
              "  </tbody>\n",
              "</table>\n",
              "</div>\n",
              "      <button class=\"colab-df-convert\" onclick=\"convertToInteractive('df-df5de0e4-693e-44f9-8a1b-4cb4f6d530e9')\"\n",
              "              title=\"Convert this dataframe to an interactive table.\"\n",
              "              style=\"display:none;\">\n",
              "        \n",
              "  <svg xmlns=\"http://www.w3.org/2000/svg\" height=\"24px\"viewBox=\"0 0 24 24\"\n",
              "       width=\"24px\">\n",
              "    <path d=\"M0 0h24v24H0V0z\" fill=\"none\"/>\n",
              "    <path d=\"M18.56 5.44l.94 2.06.94-2.06 2.06-.94-2.06-.94-.94-2.06-.94 2.06-2.06.94zm-11 1L8.5 8.5l.94-2.06 2.06-.94-2.06-.94L8.5 2.5l-.94 2.06-2.06.94zm10 10l.94 2.06.94-2.06 2.06-.94-2.06-.94-.94-2.06-.94 2.06-2.06.94z\"/><path d=\"M17.41 7.96l-1.37-1.37c-.4-.4-.92-.59-1.43-.59-.52 0-1.04.2-1.43.59L10.3 9.45l-7.72 7.72c-.78.78-.78 2.05 0 2.83L4 21.41c.39.39.9.59 1.41.59.51 0 1.02-.2 1.41-.59l7.78-7.78 2.81-2.81c.8-.78.8-2.07 0-2.86zM5.41 20L4 18.59l7.72-7.72 1.47 1.35L5.41 20z\"/>\n",
              "  </svg>\n",
              "      </button>\n",
              "      \n",
              "  <style>\n",
              "    .colab-df-container {\n",
              "      display:flex;\n",
              "      flex-wrap:wrap;\n",
              "      gap: 12px;\n",
              "    }\n",
              "\n",
              "    .colab-df-convert {\n",
              "      background-color: #E8F0FE;\n",
              "      border: none;\n",
              "      border-radius: 50%;\n",
              "      cursor: pointer;\n",
              "      display: none;\n",
              "      fill: #1967D2;\n",
              "      height: 32px;\n",
              "      padding: 0 0 0 0;\n",
              "      width: 32px;\n",
              "    }\n",
              "\n",
              "    .colab-df-convert:hover {\n",
              "      background-color: #E2EBFA;\n",
              "      box-shadow: 0px 1px 2px rgba(60, 64, 67, 0.3), 0px 1px 3px 1px rgba(60, 64, 67, 0.15);\n",
              "      fill: #174EA6;\n",
              "    }\n",
              "\n",
              "    [theme=dark] .colab-df-convert {\n",
              "      background-color: #3B4455;\n",
              "      fill: #D2E3FC;\n",
              "    }\n",
              "\n",
              "    [theme=dark] .colab-df-convert:hover {\n",
              "      background-color: #434B5C;\n",
              "      box-shadow: 0px 1px 3px 1px rgba(0, 0, 0, 0.15);\n",
              "      filter: drop-shadow(0px 1px 2px rgba(0, 0, 0, 0.3));\n",
              "      fill: #FFFFFF;\n",
              "    }\n",
              "  </style>\n",
              "\n",
              "      <script>\n",
              "        const buttonEl =\n",
              "          document.querySelector('#df-df5de0e4-693e-44f9-8a1b-4cb4f6d530e9 button.colab-df-convert');\n",
              "        buttonEl.style.display =\n",
              "          google.colab.kernel.accessAllowed ? 'block' : 'none';\n",
              "\n",
              "        async function convertToInteractive(key) {\n",
              "          const element = document.querySelector('#df-df5de0e4-693e-44f9-8a1b-4cb4f6d530e9');\n",
              "          const dataTable =\n",
              "            await google.colab.kernel.invokeFunction('convertToInteractive',\n",
              "                                                     [key], {});\n",
              "          if (!dataTable) return;\n",
              "\n",
              "          const docLinkHtml = 'Like what you see? Visit the ' +\n",
              "            '<a target=\"_blank\" href=https://colab.research.google.com/notebooks/data_table.ipynb>data table notebook</a>'\n",
              "            + ' to learn more about interactive tables.';\n",
              "          element.innerHTML = '';\n",
              "          dataTable['output_type'] = 'display_data';\n",
              "          await google.colab.output.renderOutput(dataTable, element);\n",
              "          const docLink = document.createElement('div');\n",
              "          docLink.innerHTML = docLinkHtml;\n",
              "          element.appendChild(docLink);\n",
              "        }\n",
              "      </script>\n",
              "    </div>\n",
              "  </div>\n",
              "  "
            ]
          },
          "metadata": {},
          "execution_count": 20
        }
      ]
    },
    {
      "cell_type": "code",
      "source": [
        "#plotting histograms for scaled data \n",
        "for col in c_data_scaled.columns.values:\n",
        "  if (c_data_scaled[col].dtypes == 'float64')| (c_data_scaled[col].dtypes == 'object'):\n",
        "    plt.hist(c_data_scaled[col])\n",
        "    plt.xlabel(col)\n",
        "    plt.show()"
      ],
      "metadata": {
        "colab": {
          "base_uri": "https://localhost:8080/",
          "height": 1000
        },
        "id": "BQkhVzN-Phim",
        "outputId": "c907156a-8abe-4aa8-ba42-48cb615478be"
      },
      "execution_count": 21,
      "outputs": [
        {
          "output_type": "display_data",
          "data": {
            "text/plain": [
              "<Figure size 432x288 with 1 Axes>"
            ],
            "image/png": "[encoded data removed]"
          },
          "metadata": {
            "needs_background": "light"
          }
        },
        {
          "output_type": "display_data",
          "data": {
            "text/plain": [
              "<Figure size 432x288 with 1 Axes>"
            ],
            "image/png": "[encoded data removed]"
          },
          "metadata": {
            "needs_background": "light"
          }
        },
        {
          "output_type": "display_data",
          "data": {
            "text/plain": [
              "<Figure size 432x288 with 1 Axes>"
            ],
            "image/png": "[encoded data removed]"
          },
          "metadata": {
            "needs_background": "light"
          }
        },
        {
          "output_type": "display_data",
          "data": {
            "text/plain": [
              "<Figure size 432x288 with 1 Axes>"
            ],
            "image/png": "[encoded data removed]"
          },
          "metadata": {
            "needs_background": "light"
          }
        }
      ]
    },
    {
      "cell_type": "markdown",
      "source": [
        "**Observation:**\n",
        "After scaling data by using MinMaxScalar, there is no change in distribution."
      ],
      "metadata": {
        "id": "aqdPoiaTdaz1"
      }
    },
    {
      "cell_type": "code",
      "source": [
        "#log transformation of given data\n",
        "import numpy as np\n",
        "c_data_log = pd.DataFrame(columns=['log(x1)', 'log(x2)', 'log(x3)','log(x4)'])\n",
        "c_data_log['log(x1)']=np.log(c_data['x1'])\n",
        "c_data_log['log(x2)']=np.log(c_data['x2'])\n",
        "c_data_log['log(x3)']=np.log(c_data['x3'])\n",
        "c_data_log['log(x4)']=np.log(c_data['x4'])\n",
        "c_data_log\n"
      ],
      "metadata": {
        "colab": {
          "base_uri": "https://localhost:8080/",
          "height": 423
        },
        "id": "xF01J3HtXs5_",
        "outputId": "3be51352-c8a1-4414-e4ca-87d59e5215c9"
      },
      "execution_count": 22,
      "outputs": [
        {
          "output_type": "execute_result",
          "data": {
            "text/plain": [
              "      log(x1)   log(x2)   log(x3)   log(x4)\n",
              "0   -0.183497  0.328892 -0.038506 -0.006349\n",
              "1    0.228002  0.405790 -0.100796 -0.303764\n",
              "2   -0.023316  0.056876  0.196825  0.305452\n",
              "3    0.014262  0.115722  0.178854 -0.015983\n",
              "4    0.040552  0.198042 -0.145235  0.542804\n",
              "..        ...       ...       ...       ...\n",
              "346 -1.590240 -1.631050  1.017763  0.602419\n",
              "347 -1.472374 -2.028641 -0.350615  1.016288\n",
              "348 -2.344683 -2.230949 -0.054679  1.233906\n",
              "349 -2.192030 -2.032790  0.094329  0.831038\n",
              "350 -2.171866 -1.259407  0.276313  0.401647\n",
              "\n",
              "[351 rows x 4 columns]"
            ],
            "text/html": [
              "\n",
              "  <div id=\"df-4c0db8ff-01f7-48a3-b678-713d287ffc0e\">\n",
              "    <div class=\"colab-df-container\">\n",
              "      <div>\n",
              "<style scoped>\n",
              "    .dataframe tbody tr th:only-of-type {\n",
              "        vertical-align: middle;\n",
              "    }\n",
              "\n",
              "    .dataframe tbody tr th {\n",
              "        vertical-align: top;\n",
              "    }\n",
              "\n",
              "    .dataframe thead th {\n",
              "        text-align: right;\n",
              "    }\n",
              "</style>\n",
              "<table border=\"1\" class=\"dataframe\">\n",
              "  <thead>\n",
              "    <tr style=\"text-align: right;\">\n",
              "      <th></th>\n",
              "      <th>log(x1)</th>\n",
              "      <th>log(x2)</th>\n",
              "      <th>log(x3)</th>\n",
              "      <th>log(x4)</th>\n",
              "    </tr>\n",
              "  </thead>\n",
              "  <tbody>\n",
              "    <tr>\n",
              "      <th>0</th>\n",
              "      <td>-0.183497</td>\n",
              "      <td>0.328892</td>\n",
              "      <td>-0.038506</td>\n",
              "      <td>-0.006349</td>\n",
              "    </tr>\n",
              "    <tr>\n",
              "      <th>1</th>\n",
              "      <td>0.228002</td>\n",
              "      <td>0.405790</td>\n",
              "      <td>-0.100796</td>\n",
              "      <td>-0.303764</td>\n",
              "    </tr>\n",
              "    <tr>\n",
              "      <th>2</th>\n",
              "      <td>-0.023316</td>\n",
              "      <td>0.056876</td>\n",
              "      <td>0.196825</td>\n",
              "      <td>0.305452</td>\n",
              "    </tr>\n",
              "    <tr>\n",
              "      <th>3</th>\n",
              "      <td>0.014262</td>\n",
              "      <td>0.115722</td>\n",
              "      <td>0.178854</td>\n",
              "      <td>-0.015983</td>\n",
              "    </tr>\n",
              "    <tr>\n",
              "      <th>4</th>\n",
              "      <td>0.040552</td>\n",
              "      <td>0.198042</td>\n",
              "      <td>-0.145235</td>\n",
              "      <td>0.542804</td>\n",
              "    </tr>\n",
              "    <tr>\n",
              "      <th>...</th>\n",
              "      <td>...</td>\n",
              "      <td>...</td>\n",
              "      <td>...</td>\n",
              "      <td>...</td>\n",
              "    </tr>\n",
              "    <tr>\n",
              "      <th>346</th>\n",
              "      <td>-1.590240</td>\n",
              "      <td>-1.631050</td>\n",
              "      <td>1.017763</td>\n",
              "      <td>0.602419</td>\n",
              "    </tr>\n",
              "    <tr>\n",
              "      <th>347</th>\n",
              "      <td>-1.472374</td>\n",
              "      <td>-2.028641</td>\n",
              "      <td>-0.350615</td>\n",
              "      <td>1.016288</td>\n",
              "    </tr>\n",
              "    <tr>\n",
              "      <th>348</th>\n",
              "      <td>-2.344683</td>\n",
              "      <td>-2.230949</td>\n",
              "      <td>-0.054679</td>\n",
              "      <td>1.233906</td>\n",
              "    </tr>\n",
              "    <tr>\n",
              "      <th>349</th>\n",
              "      <td>-2.192030</td>\n",
              "      <td>-2.032790</td>\n",
              "      <td>0.094329</td>\n",
              "      <td>0.831038</td>\n",
              "    </tr>\n",
              "    <tr>\n",
              "      <th>350</th>\n",
              "      <td>-2.171866</td>\n",
              "      <td>-1.259407</td>\n",
              "      <td>0.276313</td>\n",
              "      <td>0.401647</td>\n",
              "    </tr>\n",
              "  </tbody>\n",
              "</table>\n",
              "<p>351 rows × 4 columns</p>\n",
              "</div>\n",
              "      <button class=\"colab-df-convert\" onclick=\"convertToInteractive('df-4c0db8ff-01f7-48a3-b678-713d287ffc0e')\"\n",
              "              title=\"Convert this dataframe to an interactive table.\"\n",
              "              style=\"display:none;\">\n",
              "        \n",
              "  <svg xmlns=\"http://www.w3.org/2000/svg\" height=\"24px\"viewBox=\"0 0 24 24\"\n",
              "       width=\"24px\">\n",
              "    <path d=\"M0 0h24v24H0V0z\" fill=\"none\"/>\n",
              "    <path d=\"M18.56 5.44l.94 2.06.94-2.06 2.06-.94-2.06-.94-.94-2.06-.94 2.06-2.06.94zm-11 1L8.5 8.5l.94-2.06 2.06-.94-2.06-.94L8.5 2.5l-.94 2.06-2.06.94zm10 10l.94 2.06.94-2.06 2.06-.94-2.06-.94-.94-2.06-.94 2.06-2.06.94z\"/><path d=\"M17.41 7.96l-1.37-1.37c-.4-.4-.92-.59-1.43-.59-.52 0-1.04.2-1.43.59L10.3 9.45l-7.72 7.72c-.78.78-.78 2.05 0 2.83L4 21.41c.39.39.9.59 1.41.59.51 0 1.02-.2 1.41-.59l7.78-7.78 2.81-2.81c.8-.78.8-2.07 0-2.86zM5.41 20L4 18.59l7.72-7.72 1.47 1.35L5.41 20z\"/>\n",
              "  </svg>\n",
              "      </button>\n",
              "      \n",
              "  <style>\n",
              "    .colab-df-container {\n",
              "      display:flex;\n",
              "      flex-wrap:wrap;\n",
              "      gap: 12px;\n",
              "    }\n",
              "\n",
              "    .colab-df-convert {\n",
              "      background-color: #E8F0FE;\n",
              "      border: none;\n",
              "      border-radius: 50%;\n",
              "      cursor: pointer;\n",
              "      display: none;\n",
              "      fill: #1967D2;\n",
              "      height: 32px;\n",
              "      padding: 0 0 0 0;\n",
              "      width: 32px;\n",
              "    }\n",
              "\n",
              "    .colab-df-convert:hover {\n",
              "      background-color: #E2EBFA;\n",
              "      box-shadow: 0px 1px 2px rgba(60, 64, 67, 0.3), 0px 1px 3px 1px rgba(60, 64, 67, 0.15);\n",
              "      fill: #174EA6;\n",
              "    }\n",
              "\n",
              "    [theme=dark] .colab-df-convert {\n",
              "      background-color: #3B4455;\n",
              "      fill: #D2E3FC;\n",
              "    }\n",
              "\n",
              "    [theme=dark] .colab-df-convert:hover {\n",
              "      background-color: #434B5C;\n",
              "      box-shadow: 0px 1px 3px 1px rgba(0, 0, 0, 0.15);\n",
              "      filter: drop-shadow(0px 1px 2px rgba(0, 0, 0, 0.3));\n",
              "      fill: #FFFFFF;\n",
              "    }\n",
              "  </style>\n",
              "\n",
              "      <script>\n",
              "        const buttonEl =\n",
              "          document.querySelector('#df-4c0db8ff-01f7-48a3-b678-713d287ffc0e button.colab-df-convert');\n",
              "        buttonEl.style.display =\n",
              "          google.colab.kernel.accessAllowed ? 'block' : 'none';\n",
              "\n",
              "        async function convertToInteractive(key) {\n",
              "          const element = document.querySelector('#df-4c0db8ff-01f7-48a3-b678-713d287ffc0e');\n",
              "          const dataTable =\n",
              "            await google.colab.kernel.invokeFunction('convertToInteractive',\n",
              "                                                     [key], {});\n",
              "          if (!dataTable) return;\n",
              "\n",
              "          const docLinkHtml = 'Like what you see? Visit the ' +\n",
              "            '<a target=\"_blank\" href=https://colab.research.google.com/notebooks/data_table.ipynb>data table notebook</a>'\n",
              "            + ' to learn more about interactive tables.';\n",
              "          element.innerHTML = '';\n",
              "          dataTable['output_type'] = 'display_data';\n",
              "          await google.colab.output.renderOutput(dataTable, element);\n",
              "          const docLink = document.createElement('div');\n",
              "          docLink.innerHTML = docLinkHtml;\n",
              "          element.appendChild(docLink);\n",
              "        }\n",
              "      </script>\n",
              "    </div>\n",
              "  </div>\n",
              "  "
            ]
          },
          "metadata": {},
          "execution_count": 22
        }
      ]
    },
    {
      "cell_type": "code",
      "source": [
        "#plotting histograms for log transformed data\n",
        "for col in c_data_log.columns.values:\n",
        "  if (c_data_log[col].dtypes == 'float64')| (c_data_log[col].dtypes == 'object'):\n",
        "    plt.hist(c_data_log[col])\n",
        "    plt.xlabel(col)\n",
        "    plt.show()"
      ],
      "metadata": {
        "colab": {
          "base_uri": "https://localhost:8080/",
          "height": 1000
        },
        "id": "761NkJdm-zPW",
        "outputId": "ce0ef94b-1891-41d4-8d2b-e1f2b4fac86b"
      },
      "execution_count": 24,
      "outputs": [
        {
          "output_type": "display_data",
          "data": {
            "text/plain": [
              "<Figure size 432x288 with 1 Axes>"
            ],
            "image/png": "[encoded data removed]"
          },
          "metadata": {
            "needs_background": "light"
          }
        },
        {
          "output_type": "display_data",
          "data": {
            "text/plain": [
              "<Figure size 432x288 with 1 Axes>"
            ],
            "image/png": "[encoded data removed]"
          },
          "metadata": {
            "needs_background": "light"
          }
        },
        {
          "output_type": "display_data",
          "data": {
            "text/plain": [
              "<Figure size 432x288 with 1 Axes>"
            ],
            "image/png": "[encoded data removed]"
          },
          "metadata": {
            "needs_background": "light"
          }
        },
        {
          "output_type": "display_data",
          "data": {
            "text/plain": [
              "<Figure size 432x288 with 1 Axes>"
            ],
            "image/png": "[encoded data removed]"
          },
          "metadata": {
            "needs_background": "light"
          }
        }
      ]
    },
    {
      "cell_type": "markdown",
      "source": [
        "**Observation:**\n",
        "After using log transform, distribution of data can be found nearly normal distribution."
      ],
      "metadata": {
        "id": "oW7qhbLAeBIh"
      }
    },
    {
      "cell_type": "markdown",
      "source": [
        "**2.(b) Training k-means, and finding the appropriate number of k**"
      ],
      "metadata": {
        "id": "uedm6A0NQDu8"
      }
    },
    {
      "cell_type": "code",
      "source": [
        "#training k-mean algorithm \n",
        "from sklearn.cluster import KMeans\n",
        "wcss=[]\n",
        "for i in range (1,12):\n",
        "  Kmeans = KMeans(n_clusters=i, init='k-means++', random_state=0)\n",
        "  Kmeans.fit(c_data_log)\n",
        "  wcss.append(Kmeans.inertia_)\n",
        "  \n",
        "sns.lineplot(np.arange(1, 12), wcss)\n",
        "plt.xlabel('Number of clusters')\n",
        "plt.ylabel(\"sum of sq. distances from centroid\")\n",
        "plt.title(\"Rate of change of k-Means versus number of clusters\")"
      ],
      "metadata": {
        "colab": {
          "base_uri": "https://localhost:8080/",
          "height": 367
        },
        "id": "U46AkL2ZQJ4b",
        "outputId": "ba475002-1208-4e04-85e6-356c9d9d5d3e"
      },
      "execution_count": 25,
      "outputs": [
        {
          "output_type": "stream",
          "name": "stderr",
          "text": [
            "/usr/local/lib/python3.7/dist-packages/seaborn/_decorators.py:43: FutureWarning: Pass the following variables as keyword args: x, y. From version 0.12, the only valid positional argument will be `data`, and passing other arguments without an explicit keyword will result in an error or misinterpretation.\n",
            "  FutureWarning\n"
          ]
        },
        {
          "output_type": "execute_result",
          "data": {
            "text/plain": [
              "Text(0.5, 1.0, 'Rate of change of k-Means versus number of clusters')"
            ]
          },
          "metadata": {},
          "execution_count": 25
        },
        {
          "output_type": "display_data",
          "data": {
            "text/plain": [
              "<Figure size 432x288 with 1 Axes>"
            ],
            "image/png": "[encoded data removed]"
          },
          "metadata": {
            "needs_background": "light"
          }
        }
      ]
    },
    {
      "cell_type": "code",
      "source": [
        "#calculating silhouette score\n",
        "from sklearn.metrics import silhouette_score\n",
        "# Prepare models\n",
        "kmean_clstrd = KMeans(n_clusters=5).fit(c_data_log)\n",
        "score= silhouette_score(c_data_log, kmean_clstrd.labels_, metric='euclidean')\n",
        "print('kmeans silhouette_score:', score )"
      ],
      "metadata": {
        "colab": {
          "base_uri": "https://localhost:8080/"
        },
        "id": "Ahz9Mu7aNRnT",
        "outputId": "c37034fd-fb4b-4570-b726-5a802cffd795"
      },
      "execution_count": 26,
      "outputs": [
        {
          "output_type": "stream",
          "name": "stdout",
          "text": [
            "kmeans silhouette_score: 0.37562625904859126\n"
          ]
        }
      ]
    },
    {
      "cell_type": "markdown",
      "source": [
        "**Findings:**\n",
        "According to the silhouette score and elbow method that we have used above, we found appropriate number of 'k' is 5."
      ],
      "metadata": {
        "id": "nwbk-rIsbM2o"
      }
    },
    {
      "cell_type": "markdown",
      "source": [
        "**2.(c)** Visualization of the t-sne embedding"
      ],
      "metadata": {
        "id": "kQjQYx3ZbnQQ"
      }
    },
    {
      "cell_type": "code",
      "source": [
        "kmean_clstrd.labels_\n",
        "kmean_clstrd.labels_.shape\n",
        "c_data_log['Kmean']= kmean_clstrd.labels_"
      ],
      "metadata": {
        "id": "exk_E8XEJ71S"
      },
      "execution_count": 27,
      "outputs": []
    },
    {
      "cell_type": "code",
      "source": [
        "#using t-sne embedding plotting the data as optimum number of clusters\n",
        "from sklearn.manifold import TSNE\n",
        "tsne_rate= TSNE(learning_rate=20)\n",
        "tsne_features= tsne_rate.fit_transform(c_data_log)\n",
        "c_data_log['x']= tsne_features[:,0]\n",
        "c_data_log['y']= tsne_features[:,1]\n",
        "sns.scatterplot(x='x',y='y',hue='Kmean', data=c_data_log)\n",
        "plt.show()\n"
      ],
      "metadata": {
        "colab": {
          "base_uri": "https://localhost:8080/",
          "height": 314
        },
        "id": "tRGKriY-brfs",
        "outputId": "bdf6348b-c3f1-4132-b309-aa9edb86197e"
      },
      "execution_count": 28,
      "outputs": [
        {
          "output_type": "stream",
          "name": "stderr",
          "text": [
            "/usr/local/lib/python3.7/dist-packages/sklearn/manifold/_t_sne.py:783: FutureWarning: The default initialization in TSNE will change from 'random' to 'pca' in 1.2.\n",
            "  FutureWarning,\n"
          ]
        },
        {
          "output_type": "display_data",
          "data": {
            "text/plain": [
              "<Figure size 432x288 with 1 Axes>"
            ],
            "image/png": "[encoded data removed]"
          },
          "metadata": {
            "needs_background": "light"
          }
        }
      ]
    },
    {
      "cell_type": "markdown",
      "source": [
        "**References:**\n",
        "\n",
        "1.https://www.youtube.com/watch?v=Ato-hcv0NK0&list=PLZKhx5nBXhfhL28m4mjIM5kSwh5gUV2k6&index=3\n",
        "\n",
        "2.https://scikit-learn.org/stable/modules/generated/sklearn.preprocessing.MinMaxScaler.html\n",
        "\n",
        "3.https://scikit-learn.org/stable/modules/preprocessing.html\n",
        "\n",
        "4.https://scikit-learn.org/stable/modules/generated/sklearn.cluster.KMeans.html\n",
        "\n",
        "5.https://scikit-learn.org/stable/modules/generated/sklearn.metrics.silhouette_score.html\n",
        "\n",
        "6.https://scikit-learn.org/stable/modules/generated/sklearn.manifold.TSNE.html"
      ],
      "metadata": {
        "id": "erIUdMNPfkKv"
      }
    }
  ]
}