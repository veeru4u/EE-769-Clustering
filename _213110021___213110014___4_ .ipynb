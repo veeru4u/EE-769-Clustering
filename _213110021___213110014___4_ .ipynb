{
  "nbformat": 4,
  "nbformat_minor": 0,
  "metadata": {
    "colab": {
      "name": "<213110021_213110014>_<4>.ipynb",
      "provenance": [],
      "collapsed_sections": []
    },
    "kernelspec": {
      "name": "python3",
      "display_name": "Python 3"
    },
    "language_info": {
      "name": "python"
    }
  },
  "cells": [
    {
      "cell_type": "markdown",
      "source": [
        "**4.(a) Visualization of the data**"
      ],
      "metadata": {
        "id": "XU7l1gLPCM_H"
      }
    },
    {
      "cell_type": "code",
      "execution_count": 33,
      "metadata": {
        "id": "gKC_xKZkAtJ7"
      },
      "outputs": [],
      "source": [
        "#importing required libraries\n",
        "from sklearn.cluster import KMeans\n",
        "import pandas as pd\n",
        "from sklearn.preprocessing import StandardScaler\n",
        "from matplotlib import pyplot as plt\n",
        "%matplotlib inline\n",
        "import seaborn as sns"
      ]
    },
    {
      "cell_type": "code",
      "source": [
        "#reading KPCA data from given link\n",
        "kp_data= pd.read_csv('https://www.ee.iitb.ac.in/~asethi/Dump/DataKPCA.csv')\n",
        "kp_data.head()"
      ],
      "metadata": {
        "colab": {
          "base_uri": "https://localhost:8080/",
          "height": 206
        },
        "id": "_YrPuJieA6fh",
        "outputId": "e242b352-1f61-4a38-c7b2-793c9f57754d"
      },
      "execution_count": 34,
      "outputs": [
        {
          "output_type": "execute_result",
          "data": {
            "text/plain": [
              "         x1         x2         x3         x4        x5        x6        x7\n",
              "0  2.596641  15.263178 -46.289607 -10.993265 -2.266729  1.935832  2.039688\n",
              "1  3.096286  14.784802 -48.175614  -8.799362 -2.220871  1.851201  1.921974\n",
              "2  3.360246  14.774917 -49.471841  -9.030501 -1.760447  1.753114  2.041933\n",
              "3  2.214819  15.027394 -43.200400 -13.565001 -2.643018  2.200463  2.141847\n",
              "4  3.398576  15.115756 -49.416644  -6.857672 -2.025936  1.788085  1.875540"
            ],
            "text/html": [
              "\n",
              "  <div id=\"df-6f7b7395-d5d2-452c-bf10-5d1edc1c7ccc\">\n",
              "    <div class=\"colab-df-container\">\n",
              "      <div>\n",
              "<style scoped>\n",
              "    .dataframe tbody tr th:only-of-type {\n",
              "        vertical-align: middle;\n",
              "    }\n",
              "\n",
              "    .dataframe tbody tr th {\n",
              "        vertical-align: top;\n",
              "    }\n",
              "\n",
              "    .dataframe thead th {\n",
              "        text-align: right;\n",
              "    }\n",
              "</style>\n",
              "<table border=\"1\" class=\"dataframe\">\n",
              "  <thead>\n",
              "    <tr style=\"text-align: right;\">\n",
              "      <th></th>\n",
              "      <th>x1</th>\n",
              "      <th>x2</th>\n",
              "      <th>x3</th>\n",
              "      <th>x4</th>\n",
              "      <th>x5</th>\n",
              "      <th>x6</th>\n",
              "      <th>x7</th>\n",
              "    </tr>\n",
              "  </thead>\n",
              "  <tbody>\n",
              "    <tr>\n",
              "      <th>0</th>\n",
              "      <td>2.596641</td>\n",
              "      <td>15.263178</td>\n",
              "      <td>-46.289607</td>\n",
              "      <td>-10.993265</td>\n",
              "      <td>-2.266729</td>\n",
              "      <td>1.935832</td>\n",
              "      <td>2.039688</td>\n",
              "    </tr>\n",
              "    <tr>\n",
              "      <th>1</th>\n",
              "      <td>3.096286</td>\n",
              "      <td>14.784802</td>\n",
              "      <td>-48.175614</td>\n",
              "      <td>-8.799362</td>\n",
              "      <td>-2.220871</td>\n",
              "      <td>1.851201</td>\n",
              "      <td>1.921974</td>\n",
              "    </tr>\n",
              "    <tr>\n",
              "      <th>2</th>\n",
              "      <td>3.360246</td>\n",
              "      <td>14.774917</td>\n",
              "      <td>-49.471841</td>\n",
              "      <td>-9.030501</td>\n",
              "      <td>-1.760447</td>\n",
              "      <td>1.753114</td>\n",
              "      <td>2.041933</td>\n",
              "    </tr>\n",
              "    <tr>\n",
              "      <th>3</th>\n",
              "      <td>2.214819</td>\n",
              "      <td>15.027394</td>\n",
              "      <td>-43.200400</td>\n",
              "      <td>-13.565001</td>\n",
              "      <td>-2.643018</td>\n",
              "      <td>2.200463</td>\n",
              "      <td>2.141847</td>\n",
              "    </tr>\n",
              "    <tr>\n",
              "      <th>4</th>\n",
              "      <td>3.398576</td>\n",
              "      <td>15.115756</td>\n",
              "      <td>-49.416644</td>\n",
              "      <td>-6.857672</td>\n",
              "      <td>-2.025936</td>\n",
              "      <td>1.788085</td>\n",
              "      <td>1.875540</td>\n",
              "    </tr>\n",
              "  </tbody>\n",
              "</table>\n",
              "</div>\n",
              "      <button class=\"colab-df-convert\" onclick=\"convertToInteractive('df-6f7b7395-d5d2-452c-bf10-5d1edc1c7ccc')\"\n",
              "              title=\"Convert this dataframe to an interactive table.\"\n",
              "              style=\"display:none;\">\n",
              "        \n",
              "  <svg xmlns=\"http://www.w3.org/2000/svg\" height=\"24px\"viewBox=\"0 0 24 24\"\n",
              "       width=\"24px\">\n",
              "    <path d=\"M0 0h24v24H0V0z\" fill=\"none\"/>\n",
              "    <path d=\"M18.56 5.44l.94 2.06.94-2.06 2.06-.94-2.06-.94-.94-2.06-.94 2.06-2.06.94zm-11 1L8.5 8.5l.94-2.06 2.06-.94-2.06-.94L8.5 2.5l-.94 2.06-2.06.94zm10 10l.94 2.06.94-2.06 2.06-.94-2.06-.94-.94-2.06-.94 2.06-2.06.94z\"/><path d=\"M17.41 7.96l-1.37-1.37c-.4-.4-.92-.59-1.43-.59-.52 0-1.04.2-1.43.59L10.3 9.45l-7.72 7.72c-.78.78-.78 2.05 0 2.83L4 21.41c.39.39.9.59 1.41.59.51 0 1.02-.2 1.41-.59l7.78-7.78 2.81-2.81c.8-.78.8-2.07 0-2.86zM5.41 20L4 18.59l7.72-7.72 1.47 1.35L5.41 20z\"/>\n",
              "  </svg>\n",
              "      </button>\n",
              "      \n",
              "  <style>\n",
              "    .colab-df-container {\n",
              "      display:flex;\n",
              "      flex-wrap:wrap;\n",
              "      gap: 12px;\n",
              "    }\n",
              "\n",
              "    .colab-df-convert {\n",
              "      background-color: #E8F0FE;\n",
              "      border: none;\n",
              "      border-radius: 50%;\n",
              "      cursor: pointer;\n",
              "      display: none;\n",
              "      fill: #1967D2;\n",
              "      height: 32px;\n",
              "      padding: 0 0 0 0;\n",
              "      width: 32px;\n",
              "    }\n",
              "\n",
              "    .colab-df-convert:hover {\n",
              "      background-color: #E2EBFA;\n",
              "      box-shadow: 0px 1px 2px rgba(60, 64, 67, 0.3), 0px 1px 3px 1px rgba(60, 64, 67, 0.15);\n",
              "      fill: #174EA6;\n",
              "    }\n",
              "\n",
              "    [theme=dark] .colab-df-convert {\n",
              "      background-color: #3B4455;\n",
              "      fill: #D2E3FC;\n",
              "    }\n",
              "\n",
              "    [theme=dark] .colab-df-convert:hover {\n",
              "      background-color: #434B5C;\n",
              "      box-shadow: 0px 1px 3px 1px rgba(0, 0, 0, 0.15);\n",
              "      filter: drop-shadow(0px 1px 2px rgba(0, 0, 0, 0.3));\n",
              "      fill: #FFFFFF;\n",
              "    }\n",
              "  </style>\n",
              "\n",
              "      <script>\n",
              "        const buttonEl =\n",
              "          document.querySelector('#df-6f7b7395-d5d2-452c-bf10-5d1edc1c7ccc button.colab-df-convert');\n",
              "        buttonEl.style.display =\n",
              "          google.colab.kernel.accessAllowed ? 'block' : 'none';\n",
              "\n",
              "        async function convertToInteractive(key) {\n",
              "          const element = document.querySelector('#df-6f7b7395-d5d2-452c-bf10-5d1edc1c7ccc');\n",
              "          const dataTable =\n",
              "            await google.colab.kernel.invokeFunction('convertToInteractive',\n",
              "                                                     [key], {});\n",
              "          if (!dataTable) return;\n",
              "\n",
              "          const docLinkHtml = 'Like what you see? Visit the ' +\n",
              "            '<a target=\"_blank\" href=https://colab.research.google.com/notebooks/data_table.ipynb>data table notebook</a>'\n",
              "            + ' to learn more about interactive tables.';\n",
              "          element.innerHTML = '';\n",
              "          dataTable['output_type'] = 'display_data';\n",
              "          await google.colab.output.renderOutput(dataTable, element);\n",
              "          const docLink = document.createElement('div');\n",
              "          docLink.innerHTML = docLinkHtml;\n",
              "          element.appendChild(docLink);\n",
              "        }\n",
              "      </script>\n",
              "    </div>\n",
              "  </div>\n",
              "  "
            ]
          },
          "metadata": {},
          "execution_count": 34
        }
      ]
    },
    {
      "cell_type": "code",
      "source": [
        "#checking data types\n",
        "print(kp_data.dtypes)\n"
      ],
      "metadata": {
        "colab": {
          "base_uri": "https://localhost:8080/"
        },
        "id": "eYN3WKq8Baaq",
        "outputId": "86e02b04-fc3d-49a6-c4a3-c65412d21c00"
      },
      "execution_count": 35,
      "outputs": [
        {
          "output_type": "stream",
          "name": "stdout",
          "text": [
            "x1    float64\n",
            "x2    float64\n",
            "x3    float64\n",
            "x4    float64\n",
            "x5    float64\n",
            "x6    float64\n",
            "x7    float64\n",
            "dtype: object\n"
          ]
        }
      ]
    },
    {
      "cell_type": "markdown",
      "source": [
        "**Observation:**\n",
        "All data are float type."
      ],
      "metadata": {
        "id": "sNMWX8AYmh2i"
      }
    },
    {
      "cell_type": "code",
      "source": [
        "#checking whether there are null entries or not\n",
        "for col in kp_data.columns.values:\n",
        "   vals = pd.unique(kp_data[col])\n",
        "   print(col + ' has ' + str(len(vals)) + ' unique values and '+ str(kp_data[col].isnull().sum()) + ' null entries')\n",
        "   if len(vals) < 20:\n",
        "     lst_str=''\n",
        "     for n in range(0, len(vals)):\n",
        "       lst_str= lst_str + str(vals[n]) + ','"
      ],
      "metadata": {
        "colab": {
          "base_uri": "https://localhost:8080/"
        },
        "id": "8UCwbmKxBf3s",
        "outputId": "434f496c-e0c5-4dc4-d33f-27b9987bbbd4"
      },
      "execution_count": 36,
      "outputs": [
        {
          "output_type": "stream",
          "name": "stdout",
          "text": [
            "x1 has 190 unique values and 0 null entries\n",
            "x2 has 190 unique values and 0 null entries\n",
            "x3 has 190 unique values and 0 null entries\n",
            "x4 has 190 unique values and 0 null entries\n",
            "x5 has 190 unique values and 0 null entries\n",
            "x6 has 190 unique values and 0 null entries\n",
            "x7 has 190 unique values and 0 null entries\n"
          ]
        }
      ]
    },
    {
      "cell_type": "markdown",
      "source": [
        "**Observation:** There are no null entries."
      ],
      "metadata": {
        "id": "N_i0cwqnmo0l"
      }
    },
    {
      "cell_type": "code",
      "source": [
        "#plotting heatmap for correlation matrix\n",
        "corrMatrix = kp_data.corr(method='spearman')\n",
        "fig, ax= plt.subplots(figsize=(20,16))\n",
        "sns.heatmap(abs(corrMatrix), annot=False)\n",
        "plt.show()"
      ],
      "metadata": {
        "colab": {
          "base_uri": "https://localhost:8080/",
          "height": 922
        },
        "id": "gZvf-FL2BqAH",
        "outputId": "052ae566-e559-4305-b00f-378b595f6e53"
      },
      "execution_count": 37,
      "outputs": [
        {
          "output_type": "display_data",
          "data": {
            "text/plain": [
              "<Figure size 1440x1152 with 2 Axes>"
            ],
            "image/png": "[encoded data removed]"
          },
          "metadata": {
            "needs_background": "light"
          }
        }
      ]
    },
    {
      "cell_type": "markdown",
      "source": [
        "**Observation:**\n",
        "No co-relations between features."
      ],
      "metadata": {
        "id": "VS2MKSJhWleF"
      }
    },
    {
      "cell_type": "code",
      "source": [
        "#plotting histogram to check distribution of data\n",
        "for col in kp_data.columns.values:\n",
        "  if (kp_data[col].dtypes == 'float64')| (kp_data[col].dtypes == 'object'):\n",
        "    plt.hist(kp_data[col])\n",
        "    plt.xlabel(col)\n",
        "    plt.show()"
      ],
      "metadata": {
        "colab": {
          "base_uri": "https://localhost:8080/",
          "height": 1000
        },
        "id": "iB06O-3OBwvv",
        "outputId": "23c9377f-9333-4add-99d1-d202d46c2630"
      },
      "execution_count": 38,
      "outputs": [
        {
          "output_type": "display_data",
          "data": {
            "text/plain": [
              "<Figure size 432x288 with 1 Axes>"
            ],
            "image/png": "[encoded data removed]"
          },
          "metadata": {
            "needs_background": "light"
          }
        },
        {
          "output_type": "display_data",
          "data": {
            "text/plain": [
              "<Figure size 432x288 with 1 Axes>"
            ],
            "image/png": "[encoded data removed]"
          },
          "metadata": {
            "needs_background": "light"
          }
        },
        {
          "output_type": "display_data",
          "data": {
            "text/plain": [
              "<Figure size 432x288 with 1 Axes>"
            ],
            "image/png": "[encoded data removed]"
          },
          "metadata": {
            "needs_background": "light"
          }
        },
        {
          "output_type": "display_data",
          "data": {
            "text/plain": [
              "<Figure size 432x288 with 1 Axes>"
            ],
            "image/png": "[encoded data removed]"
          },
          "metadata": {
            "needs_background": "light"
          }
        },
        {
          "output_type": "display_data",
          "data": {
            "text/plain": [
              "<Figure size 432x288 with 1 Axes>"
            ],
            "image/png": "[encoded data removed]"
          },
          "metadata": {
            "needs_background": "light"
          }
        },
        {
          "output_type": "display_data",
          "data": {
            "text/plain": [
              "<Figure size 432x288 with 1 Axes>"
            ],
            "image/png": "[encoded data removed]"
          },
          "metadata": {
            "needs_background": "light"
          }
        },
        {
          "output_type": "display_data",
          "data": {
            "text/plain": [
              "<Figure size 432x288 with 1 Axes>"
            ],
            "image/png": "[encoded data removed]"
          },
          "metadata": {
            "needs_background": "light"
          }
        }
      ]
    },
    {
      "cell_type": "markdown",
      "source": [
        "**Observation:**\n",
        "All features are nearly following normal distribution except X6 which is rightly skewed. "
      ],
      "metadata": {
        "id": "KO3NmKannHiT"
      }
    },
    {
      "cell_type": "code",
      "source": [
        "#data is scaled by using standard scalar\n",
        "scaling = StandardScaler()\n",
        "coln_names = ['x1','x2','x3','x4','x5','x6','x7']\n",
        "kp_data_scaled = kp_data.copy()\n",
        "variables= kp_data_scaled[coln_names]\n",
        "kp_data_scaled[coln_names] = scaling.fit_transform(variables.values)\n",
        "kp_data_scaled"
      ],
      "metadata": {
        "colab": {
          "base_uri": "https://localhost:8080/",
          "height": 423
        },
        "id": "6zV9yywhB6ry",
        "outputId": "c92ae8aa-239a-4765-dc7d-c9faac0da686"
      },
      "execution_count": 39,
      "outputs": [
        {
          "output_type": "execute_result",
          "data": {
            "text/plain": [
              "           x1        x2        x3        x4        x5        x6        x7\n",
              "0   -0.893531  0.214228  0.660423 -0.935894 -0.180173  0.263020  0.750311\n",
              "1   -0.043014 -0.155081 -0.108467  0.005283 -0.089272 -0.268499 -0.334918\n",
              "2    0.406310 -0.162711 -0.636915 -0.093875  0.823388 -0.884520  0.771011\n",
              "3   -1.543484  0.032201  1.919837 -2.039160 -0.926059  1.924996  1.692138\n",
              "4    0.471557  0.100418 -0.614413  0.838262  0.297131 -0.664890 -0.762999\n",
              "..        ...       ...       ...       ...       ...       ...       ...\n",
              "185 -0.807654 -0.570860  1.207451 -0.686765 -1.256448  1.194522 -0.500716\n",
              "186 -0.755195 -0.282037  0.869675 -0.593882 -0.920429  0.904699 -0.437642\n",
              "187  0.718876 -0.384799 -0.726786  0.445573  0.615125 -0.890292 -0.049603\n",
              "188  0.752135 -0.803030 -0.498140  0.281049  0.141035 -0.756958 -0.404772\n",
              "189  1.016398 -0.907010 -0.613714  0.493546  0.043161 -0.754007 -0.527455\n",
              "\n",
              "[190 rows x 7 columns]"
            ],
            "text/html": [
              "\n",
              "  <div id=\"df-497d0b7c-f3f6-434a-8220-4bf23034dfb8\">\n",
              "    <div class=\"colab-df-container\">\n",
              "      <div>\n",
              "<style scoped>\n",
              "    .dataframe tbody tr th:only-of-type {\n",
              "        vertical-align: middle;\n",
              "    }\n",
              "\n",
              "    .dataframe tbody tr th {\n",
              "        vertical-align: top;\n",
              "    }\n",
              "\n",
              "    .dataframe thead th {\n",
              "        text-align: right;\n",
              "    }\n",
              "</style>\n",
              "<table border=\"1\" class=\"dataframe\">\n",
              "  <thead>\n",
              "    <tr style=\"text-align: right;\">\n",
              "      <th></th>\n",
              "      <th>x1</th>\n",
              "      <th>x2</th>\n",
              "      <th>x3</th>\n",
              "      <th>x4</th>\n",
              "      <th>x5</th>\n",
              "      <th>x6</th>\n",
              "      <th>x7</th>\n",
              "    </tr>\n",
              "  </thead>\n",
              "  <tbody>\n",
              "    <tr>\n",
              "      <th>0</th>\n",
              "      <td>-0.893531</td>\n",
              "      <td>0.214228</td>\n",
              "      <td>0.660423</td>\n",
              "      <td>-0.935894</td>\n",
              "      <td>-0.180173</td>\n",
              "      <td>0.263020</td>\n",
              "      <td>0.750311</td>\n",
              "    </tr>\n",
              "    <tr>\n",
              "      <th>1</th>\n",
              "      <td>-0.043014</td>\n",
              "      <td>-0.155081</td>\n",
              "      <td>-0.108467</td>\n",
              "      <td>0.005283</td>\n",
              "      <td>-0.089272</td>\n",
              "      <td>-0.268499</td>\n",
              "      <td>-0.334918</td>\n",
              "    </tr>\n",
              "    <tr>\n",
              "      <th>2</th>\n",
              "      <td>0.406310</td>\n",
              "      <td>-0.162711</td>\n",
              "      <td>-0.636915</td>\n",
              "      <td>-0.093875</td>\n",
              "      <td>0.823388</td>\n",
              "      <td>-0.884520</td>\n",
              "      <td>0.771011</td>\n",
              "    </tr>\n",
              "    <tr>\n",
              "      <th>3</th>\n",
              "      <td>-1.543484</td>\n",
              "      <td>0.032201</td>\n",
              "      <td>1.919837</td>\n",
              "      <td>-2.039160</td>\n",
              "      <td>-0.926059</td>\n",
              "      <td>1.924996</td>\n",
              "      <td>1.692138</td>\n",
              "    </tr>\n",
              "    <tr>\n",
              "      <th>4</th>\n",
              "      <td>0.471557</td>\n",
              "      <td>0.100418</td>\n",
              "      <td>-0.614413</td>\n",
              "      <td>0.838262</td>\n",
              "      <td>0.297131</td>\n",
              "      <td>-0.664890</td>\n",
              "      <td>-0.762999</td>\n",
              "    </tr>\n",
              "    <tr>\n",
              "      <th>...</th>\n",
              "      <td>...</td>\n",
              "      <td>...</td>\n",
              "      <td>...</td>\n",
              "      <td>...</td>\n",
              "      <td>...</td>\n",
              "      <td>...</td>\n",
              "      <td>...</td>\n",
              "    </tr>\n",
              "    <tr>\n",
              "      <th>185</th>\n",
              "      <td>-0.807654</td>\n",
              "      <td>-0.570860</td>\n",
              "      <td>1.207451</td>\n",
              "      <td>-0.686765</td>\n",
              "      <td>-1.256448</td>\n",
              "      <td>1.194522</td>\n",
              "      <td>-0.500716</td>\n",
              "    </tr>\n",
              "    <tr>\n",
              "      <th>186</th>\n",
              "      <td>-0.755195</td>\n",
              "      <td>-0.282037</td>\n",
              "      <td>0.869675</td>\n",
              "      <td>-0.593882</td>\n",
              "      <td>-0.920429</td>\n",
              "      <td>0.904699</td>\n",
              "      <td>-0.437642</td>\n",
              "    </tr>\n",
              "    <tr>\n",
              "      <th>187</th>\n",
              "      <td>0.718876</td>\n",
              "      <td>-0.384799</td>\n",
              "      <td>-0.726786</td>\n",
              "      <td>0.445573</td>\n",
              "      <td>0.615125</td>\n",
              "      <td>-0.890292</td>\n",
              "      <td>-0.049603</td>\n",
              "    </tr>\n",
              "    <tr>\n",
              "      <th>188</th>\n",
              "      <td>0.752135</td>\n",
              "      <td>-0.803030</td>\n",
              "      <td>-0.498140</td>\n",
              "      <td>0.281049</td>\n",
              "      <td>0.141035</td>\n",
              "      <td>-0.756958</td>\n",
              "      <td>-0.404772</td>\n",
              "    </tr>\n",
              "    <tr>\n",
              "      <th>189</th>\n",
              "      <td>1.016398</td>\n",
              "      <td>-0.907010</td>\n",
              "      <td>-0.613714</td>\n",
              "      <td>0.493546</td>\n",
              "      <td>0.043161</td>\n",
              "      <td>-0.754007</td>\n",
              "      <td>-0.527455</td>\n",
              "    </tr>\n",
              "  </tbody>\n",
              "</table>\n",
              "<p>190 rows × 7 columns</p>\n",
              "</div>\n",
              "      <button class=\"colab-df-convert\" onclick=\"convertToInteractive('df-497d0b7c-f3f6-434a-8220-4bf23034dfb8')\"\n",
              "              title=\"Convert this dataframe to an interactive table.\"\n",
              "              style=\"display:none;\">\n",
              "        \n",
              "  <svg xmlns=\"http://www.w3.org/2000/svg\" height=\"24px\"viewBox=\"0 0 24 24\"\n",
              "       width=\"24px\">\n",
              "    <path d=\"M0 0h24v24H0V0z\" fill=\"none\"/>\n",
              "    <path d=\"M18.56 5.44l.94 2.06.94-2.06 2.06-.94-2.06-.94-.94-2.06-.94 2.06-2.06.94zm-11 1L8.5 8.5l.94-2.06 2.06-.94-2.06-.94L8.5 2.5l-.94 2.06-2.06.94zm10 10l.94 2.06.94-2.06 2.06-.94-2.06-.94-.94-2.06-.94 2.06-2.06.94z\"/><path d=\"M17.41 7.96l-1.37-1.37c-.4-.4-.92-.59-1.43-.59-.52 0-1.04.2-1.43.59L10.3 9.45l-7.72 7.72c-.78.78-.78 2.05 0 2.83L4 21.41c.39.39.9.59 1.41.59.51 0 1.02-.2 1.41-.59l7.78-7.78 2.81-2.81c.8-.78.8-2.07 0-2.86zM5.41 20L4 18.59l7.72-7.72 1.47 1.35L5.41 20z\"/>\n",
              "  </svg>\n",
              "      </button>\n",
              "      \n",
              "  <style>\n",
              "    .colab-df-container {\n",
              "      display:flex;\n",
              "      flex-wrap:wrap;\n",
              "      gap: 12px;\n",
              "    }\n",
              "\n",
              "    .colab-df-convert {\n",
              "      background-color: #E8F0FE;\n",
              "      border: none;\n",
              "      border-radius: 50%;\n",
              "      cursor: pointer;\n",
              "      display: none;\n",
              "      fill: #1967D2;\n",
              "      height: 32px;\n",
              "      padding: 0 0 0 0;\n",
              "      width: 32px;\n",
              "    }\n",
              "\n",
              "    .colab-df-convert:hover {\n",
              "      background-color: #E2EBFA;\n",
              "      box-shadow: 0px 1px 2px rgba(60, 64, 67, 0.3), 0px 1px 3px 1px rgba(60, 64, 67, 0.15);\n",
              "      fill: #174EA6;\n",
              "    }\n",
              "\n",
              "    [theme=dark] .colab-df-convert {\n",
              "      background-color: #3B4455;\n",
              "      fill: #D2E3FC;\n",
              "    }\n",
              "\n",
              "    [theme=dark] .colab-df-convert:hover {\n",
              "      background-color: #434B5C;\n",
              "      box-shadow: 0px 1px 3px 1px rgba(0, 0, 0, 0.15);\n",
              "      filter: drop-shadow(0px 1px 2px rgba(0, 0, 0, 0.3));\n",
              "      fill: #FFFFFF;\n",
              "    }\n",
              "  </style>\n",
              "\n",
              "      <script>\n",
              "        const buttonEl =\n",
              "          document.querySelector('#df-497d0b7c-f3f6-434a-8220-4bf23034dfb8 button.colab-df-convert');\n",
              "        buttonEl.style.display =\n",
              "          google.colab.kernel.accessAllowed ? 'block' : 'none';\n",
              "\n",
              "        async function convertToInteractive(key) {\n",
              "          const element = document.querySelector('#df-497d0b7c-f3f6-434a-8220-4bf23034dfb8');\n",
              "          const dataTable =\n",
              "            await google.colab.kernel.invokeFunction('convertToInteractive',\n",
              "                                                     [key], {});\n",
              "          if (!dataTable) return;\n",
              "\n",
              "          const docLinkHtml = 'Like what you see? Visit the ' +\n",
              "            '<a target=\"_blank\" href=https://colab.research.google.com/notebooks/data_table.ipynb>data table notebook</a>'\n",
              "            + ' to learn more about interactive tables.';\n",
              "          element.innerHTML = '';\n",
              "          dataTable['output_type'] = 'display_data';\n",
              "          await google.colab.output.renderOutput(dataTable, element);\n",
              "          const docLink = document.createElement('div');\n",
              "          docLink.innerHTML = docLinkHtml;\n",
              "          element.appendChild(docLink);\n",
              "        }\n",
              "      </script>\n",
              "    </div>\n",
              "  </div>\n",
              "  "
            ]
          },
          "metadata": {},
          "execution_count": 39
        }
      ]
    },
    {
      "cell_type": "markdown",
      "source": [
        "**4.(b) Training of KPCA**"
      ],
      "metadata": {
        "id": "j0kqcfMBCLcO"
      }
    },
    {
      "cell_type": "code",
      "source": [
        "#training KPCA algorithm\n",
        "from sklearn.decomposition import KernelPCA\n",
        "\n",
        "kernel_pca = KernelPCA(n_components=None, kernel=\"rbf\", gamma=10, fit_inverse_transform=True, alpha=0.1)\n",
        "kp_data_trained= kernel_pca.fit(kp_data_scaled).transform(kp_data_scaled)\n",
        "kp_data_trained"
      ],
      "metadata": {
        "colab": {
          "base_uri": "https://localhost:8080/"
        },
        "id": "87OdrjLGCcAN",
        "outputId": "a8a9d734-4003-48a7-816b-290c13cf3a69"
      },
      "execution_count": 40,
      "outputs": [
        {
          "output_type": "execute_result",
          "data": {
            "text/plain": [
              "array([[-1.05428335e-02, -1.88729041e-02, -8.19736227e-03, ...,\n",
              "        -2.15669929e-04,  4.99529521e-06,  1.17322679e-04],\n",
              "       [ 2.24116408e-01,  9.64632223e-02,  9.74867879e-03, ...,\n",
              "        -2.02441493e-04,  3.50791671e-06,  8.90919411e-05],\n",
              "       [-1.08790577e-02, -1.95115670e-02, -8.53428485e-03, ...,\n",
              "        -2.06300456e-04,  4.79230360e-06,  1.12789189e-04],\n",
              "       ...,\n",
              "       [-1.92800448e-02, -3.40624534e-02, -1.90379680e-02, ...,\n",
              "        -8.13802616e-04,  3.49997252e-06,  3.79791705e-05],\n",
              "       [-1.45898559e-02, -2.70222513e-02, -1.10701131e-02, ...,\n",
              "        -1.79243263e-04,  3.93521472e-05,  9.18984260e-05],\n",
              "       [-1.61156569e-02, -3.04026020e-02, -8.09462706e-03, ...,\n",
              "        -1.54205862e-04, -1.14737745e-04,  8.80100532e-05]])"
            ]
          },
          "metadata": {},
          "execution_count": 40
        }
      ]
    },
    {
      "cell_type": "code",
      "source": [
        "#plotting pair-wise scatter plot\n",
        "plt.figure(figsize=(8,6))\n",
        "plt.scatter(kp_data_trained[:,0],kp_data_trained[:,1])"
      ],
      "metadata": {
        "colab": {
          "base_uri": "https://localhost:8080/",
          "height": 391
        },
        "id": "ZGdlCklkFY-_",
        "outputId": "97d02305-8e76-4740-dd2a-4ed57975de63"
      },
      "execution_count": 41,
      "outputs": [
        {
          "output_type": "execute_result",
          "data": {
            "text/plain": [
              "<matplotlib.collections.PathCollection at 0x7f5cfbbe3b90>"
            ]
          },
          "metadata": {},
          "execution_count": 41
        },
        {
          "output_type": "display_data",
          "data": {
            "text/plain": [
              "<Figure size 576x432 with 1 Axes>"
            ],
            "image/png": "[encoded data removed]"
          },
          "metadata": {
            "needs_background": "light"
          }
        }
      ]
    },
    {
      "cell_type": "markdown",
      "source": [
        "**4.(c) Plotting the variance explained versus KPCA dimensions for up to 10 dimensions**"
      ],
      "metadata": {
        "id": "l9FR6DEDJjBj"
      }
    },
    {
      "cell_type": "code",
      "source": [
        "import numpy as np\n",
        "explained_variance = np.var(kp_data_trained, axis=0)  #calculation of explained variance\n",
        "explained_variance_ratio = explained_variance / np.sum(explained_variance)\n",
        "plt.plot(np.cumsum(explained_variance))\n",
        "plt.xlim(0,10)                                        #plotting upto KPCA dimensions 10\n",
        "plt.xlabel('KPCA Dimensions')\n",
        "plt.ylabel('Variance explained');"
      ],
      "metadata": {
        "colab": {
          "base_uri": "https://localhost:8080/",
          "height": 279
        },
        "id": "DZ3efNO8Jo6-",
        "outputId": "6df9234e-d346-4e81-a36a-eb676bcb366a"
      },
      "execution_count": 42,
      "outputs": [
        {
          "output_type": "display_data",
          "data": {
            "text/plain": [
              "<Figure size 432x288 with 1 Axes>"
            ],
            "image/png": "[encoded data removed]"
          },
          "metadata": {
            "needs_background": "light"
          }
        }
      ]
    },
    {
      "cell_type": "markdown",
      "source": [
        "**References:**\n",
        "\n",
        "1.https://www.youtube.com/watch?v=Ato-hcv0NK0&list=PLZKhx5nBXhfhL28m4mjIM5kSwh5gUV2k6&index=3\n",
        "\n",
        "2.https://scikit-learn.org/stable/modules/generated/sklearn.preprocessing.StandardScaler.html\n",
        "\n",
        "3.https://scikit-learn.org/stable/modules/generated/sklearn.decomposition.KernelPCA.html"
      ],
      "metadata": {
        "id": "LsJeaG9qoflS"
      }
    }
  ]
}