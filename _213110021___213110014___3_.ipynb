{
  "nbformat": 4,
  "nbformat_minor": 0,
  "metadata": {
    "colab": {
      "name": "<213110021>_<213110014>_<3>.ipynb",
      "provenance": [],
      "collapsed_sections": []
    },
    "kernelspec": {
      "name": "python3",
      "display_name": "Python 3"
    },
    "language_info": {
      "name": "python"
    }
  },
  "cells": [
    {
      "cell_type": "markdown",
      "source": [
        "**3.(a) Visualization of data**"
      ],
      "metadata": {
        "id": "hlzEwUk-yR1h"
      }
    },
    {
      "cell_type": "code",
      "execution_count": 42,
      "metadata": {
        "id": "Lhr178eFvoS2"
      },
      "outputs": [],
      "source": [
        "#importing required libraries \n",
        "from sklearn.cluster import KMeans\n",
        "import pandas as pd\n",
        "from sklearn.preprocessing import StandardScaler\n",
        "from matplotlib import pyplot as plt\n",
        "%matplotlib inline\n",
        "import seaborn as sns"
      ]
    },
    {
      "cell_type": "code",
      "source": [
        "#reading PCA data from given link\n",
        "p_data= pd.read_csv('https://www.ee.iitb.ac.in/~asethi/Dump/DataPCA.csv')\n",
        "p_data.head()\n"
      ],
      "metadata": {
        "colab": {
          "base_uri": "https://localhost:8080/",
          "height": 206
        },
        "id": "Tp41bg57vy6C",
        "outputId": "f0555c80-a981-40a2-a719-fae1c1f094f9"
      },
      "execution_count": 43,
      "outputs": [
        {
          "output_type": "execute_result",
          "data": {
            "text/plain": [
              "         x1        x2        x3        x4        x5        x6        x7\n",
              "0  0.840261 -1.088160  4.861744  4.273055  4.312457 -0.137834  0.076453\n",
              "1  1.320591 -1.174113  5.247360  3.295027  4.283410 -0.363759 -0.170605\n",
              "2  1.537909 -1.175882  5.556251  3.394183  3.971574 -0.888398  0.080617\n",
              "3  0.363552 -1.130608  4.329890  5.547488  4.539732  0.342330  0.251953\n",
              "4  1.567938 -1.114719  5.542104  2.493071  4.156157 -0.609694 -0.291367"
            ],
            "text/html": [
              "\n",
              "  <div id=\"df-ddcec5e2-efba-4683-9c36-7f0485730ebb\">\n",
              "    <div class=\"colab-df-container\">\n",
              "      <div>\n",
              "<style scoped>\n",
              "    .dataframe tbody tr th:only-of-type {\n",
              "        vertical-align: middle;\n",
              "    }\n",
              "\n",
              "    .dataframe tbody tr th {\n",
              "        vertical-align: top;\n",
              "    }\n",
              "\n",
              "    .dataframe thead th {\n",
              "        text-align: right;\n",
              "    }\n",
              "</style>\n",
              "<table border=\"1\" class=\"dataframe\">\n",
              "  <thead>\n",
              "    <tr style=\"text-align: right;\">\n",
              "      <th></th>\n",
              "      <th>x1</th>\n",
              "      <th>x2</th>\n",
              "      <th>x3</th>\n",
              "      <th>x4</th>\n",
              "      <th>x5</th>\n",
              "      <th>x6</th>\n",
              "      <th>x7</th>\n",
              "    </tr>\n",
              "  </thead>\n",
              "  <tbody>\n",
              "    <tr>\n",
              "      <th>0</th>\n",
              "      <td>0.840261</td>\n",
              "      <td>-1.088160</td>\n",
              "      <td>4.861744</td>\n",
              "      <td>4.273055</td>\n",
              "      <td>4.312457</td>\n",
              "      <td>-0.137834</td>\n",
              "      <td>0.076453</td>\n",
              "    </tr>\n",
              "    <tr>\n",
              "      <th>1</th>\n",
              "      <td>1.320591</td>\n",
              "      <td>-1.174113</td>\n",
              "      <td>5.247360</td>\n",
              "      <td>3.295027</td>\n",
              "      <td>4.283410</td>\n",
              "      <td>-0.363759</td>\n",
              "      <td>-0.170605</td>\n",
              "    </tr>\n",
              "    <tr>\n",
              "      <th>2</th>\n",
              "      <td>1.537909</td>\n",
              "      <td>-1.175882</td>\n",
              "      <td>5.556251</td>\n",
              "      <td>3.394183</td>\n",
              "      <td>3.971574</td>\n",
              "      <td>-0.888398</td>\n",
              "      <td>0.080617</td>\n",
              "    </tr>\n",
              "    <tr>\n",
              "      <th>3</th>\n",
              "      <td>0.363552</td>\n",
              "      <td>-1.130608</td>\n",
              "      <td>4.329890</td>\n",
              "      <td>5.547488</td>\n",
              "      <td>4.539732</td>\n",
              "      <td>0.342330</td>\n",
              "      <td>0.251953</td>\n",
              "    </tr>\n",
              "    <tr>\n",
              "      <th>4</th>\n",
              "      <td>1.567938</td>\n",
              "      <td>-1.114719</td>\n",
              "      <td>5.542104</td>\n",
              "      <td>2.493071</td>\n",
              "      <td>4.156157</td>\n",
              "      <td>-0.609694</td>\n",
              "      <td>-0.291367</td>\n",
              "    </tr>\n",
              "  </tbody>\n",
              "</table>\n",
              "</div>\n",
              "      <button class=\"colab-df-convert\" onclick=\"convertToInteractive('df-ddcec5e2-efba-4683-9c36-7f0485730ebb')\"\n",
              "              title=\"Convert this dataframe to an interactive table.\"\n",
              "              style=\"display:none;\">\n",
              "        \n",
              "  <svg xmlns=\"http://www.w3.org/2000/svg\" height=\"24px\"viewBox=\"0 0 24 24\"\n",
              "       width=\"24px\">\n",
              "    <path d=\"M0 0h24v24H0V0z\" fill=\"none\"/>\n",
              "    <path d=\"M18.56 5.44l.94 2.06.94-2.06 2.06-.94-2.06-.94-.94-2.06-.94 2.06-2.06.94zm-11 1L8.5 8.5l.94-2.06 2.06-.94-2.06-.94L8.5 2.5l-.94 2.06-2.06.94zm10 10l.94 2.06.94-2.06 2.06-.94-2.06-.94-.94-2.06-.94 2.06-2.06.94z\"/><path d=\"M17.41 7.96l-1.37-1.37c-.4-.4-.92-.59-1.43-.59-.52 0-1.04.2-1.43.59L10.3 9.45l-7.72 7.72c-.78.78-.78 2.05 0 2.83L4 21.41c.39.39.9.59 1.41.59.51 0 1.02-.2 1.41-.59l7.78-7.78 2.81-2.81c.8-.78.8-2.07 0-2.86zM5.41 20L4 18.59l7.72-7.72 1.47 1.35L5.41 20z\"/>\n",
              "  </svg>\n",
              "      </button>\n",
              "      \n",
              "  <style>\n",
              "    .colab-df-container {\n",
              "      display:flex;\n",
              "      flex-wrap:wrap;\n",
              "      gap: 12px;\n",
              "    }\n",
              "\n",
              "    .colab-df-convert {\n",
              "      background-color: #E8F0FE;\n",
              "      border: none;\n",
              "      border-radius: 50%;\n",
              "      cursor: pointer;\n",
              "      display: none;\n",
              "      fill: #1967D2;\n",
              "      height: 32px;\n",
              "      padding: 0 0 0 0;\n",
              "      width: 32px;\n",
              "    }\n",
              "\n",
              "    .colab-df-convert:hover {\n",
              "      background-color: #E2EBFA;\n",
              "      box-shadow: 0px 1px 2px rgba(60, 64, 67, 0.3), 0px 1px 3px 1px rgba(60, 64, 67, 0.15);\n",
              "      fill: #174EA6;\n",
              "    }\n",
              "\n",
              "    [theme=dark] .colab-df-convert {\n",
              "      background-color: #3B4455;\n",
              "      fill: #D2E3FC;\n",
              "    }\n",
              "\n",
              "    [theme=dark] .colab-df-convert:hover {\n",
              "      background-color: #434B5C;\n",
              "      box-shadow: 0px 1px 3px 1px rgba(0, 0, 0, 0.15);\n",
              "      filter: drop-shadow(0px 1px 2px rgba(0, 0, 0, 0.3));\n",
              "      fill: #FFFFFF;\n",
              "    }\n",
              "  </style>\n",
              "\n",
              "      <script>\n",
              "        const buttonEl =\n",
              "          document.querySelector('#df-ddcec5e2-efba-4683-9c36-7f0485730ebb button.colab-df-convert');\n",
              "        buttonEl.style.display =\n",
              "          google.colab.kernel.accessAllowed ? 'block' : 'none';\n",
              "\n",
              "        async function convertToInteractive(key) {\n",
              "          const element = document.querySelector('#df-ddcec5e2-efba-4683-9c36-7f0485730ebb');\n",
              "          const dataTable =\n",
              "            await google.colab.kernel.invokeFunction('convertToInteractive',\n",
              "                                                     [key], {});\n",
              "          if (!dataTable) return;\n",
              "\n",
              "          const docLinkHtml = 'Like what you see? Visit the ' +\n",
              "            '<a target=\"_blank\" href=https://colab.research.google.com/notebooks/data_table.ipynb>data table notebook</a>'\n",
              "            + ' to learn more about interactive tables.';\n",
              "          element.innerHTML = '';\n",
              "          dataTable['output_type'] = 'display_data';\n",
              "          await google.colab.output.renderOutput(dataTable, element);\n",
              "          const docLink = document.createElement('div');\n",
              "          docLink.innerHTML = docLinkHtml;\n",
              "          element.appendChild(docLink);\n",
              "        }\n",
              "      </script>\n",
              "    </div>\n",
              "  </div>\n",
              "  "
            ]
          },
          "metadata": {},
          "execution_count": 43
        }
      ]
    },
    {
      "cell_type": "code",
      "source": [
        "#checking data types\n",
        "print(p_data.dtypes)\n"
      ],
      "metadata": {
        "colab": {
          "base_uri": "https://localhost:8080/"
        },
        "id": "5d0kPN5twAbH",
        "outputId": "e1944120-4f9a-482b-c6b5-2cb1c932c27e"
      },
      "execution_count": 44,
      "outputs": [
        {
          "output_type": "stream",
          "name": "stdout",
          "text": [
            "x1    float64\n",
            "x2    float64\n",
            "x3    float64\n",
            "x4    float64\n",
            "x5    float64\n",
            "x6    float64\n",
            "x7    float64\n",
            "dtype: object\n"
          ]
        }
      ]
    },
    {
      "cell_type": "markdown",
      "source": [
        "**Observation:** All data are float type."
      ],
      "metadata": {
        "id": "CNI3oM3lh4l4"
      }
    },
    {
      "cell_type": "code",
      "source": [
        "#checking whether there are null entries or not \n",
        "for col in p_data.columns.values:\n",
        "   vals = pd.unique(p_data[col])\n",
        "   print(col + ' has ' + str(len(vals)) + ' unique values and '+ str(p_data[col].isnull().sum()) + ' null entries')\n",
        "   if len(vals) < 20:\n",
        "     lst_str=''\n",
        "     for n in range(0, len(vals)):\n",
        "       lst_str= lst_str + str(vals[n]) + ','"
      ],
      "metadata": {
        "colab": {
          "base_uri": "https://localhost:8080/"
        },
        "id": "CJ5eXEeCwjQZ",
        "outputId": "d6ab1206-04bb-48f6-e3ed-e11eb3457e9a"
      },
      "execution_count": 45,
      "outputs": [
        {
          "output_type": "stream",
          "name": "stdout",
          "text": [
            "x1 has 190 unique values and 0 null entries\n",
            "x2 has 190 unique values and 0 null entries\n",
            "x3 has 190 unique values and 0 null entries\n",
            "x4 has 190 unique values and 0 null entries\n",
            "x5 has 190 unique values and 0 null entries\n",
            "x6 has 190 unique values and 0 null entries\n",
            "x7 has 190 unique values and 0 null entries\n"
          ]
        }
      ]
    },
    {
      "cell_type": "markdown",
      "source": [
        "**Observation:** There are no null entries."
      ],
      "metadata": {
        "id": "uyzKljQah_4T"
      }
    },
    {
      "cell_type": "code",
      "source": [
        "#plotting heatmap for correlation matrix\n",
        "corrMatrix = p_data.corr(method='spearman')\n",
        "fig, ax= plt.subplots(figsize=(20,16))\n",
        "sns.heatmap(abs(corrMatrix), annot=False)\n",
        "plt.show()"
      ],
      "metadata": {
        "colab": {
          "base_uri": "https://localhost:8080/",
          "height": 922
        },
        "id": "sZtWo9Hpwure",
        "outputId": "785b2f20-c4ad-40b2-99f3-b3da7c5fe4ab"
      },
      "execution_count": 46,
      "outputs": [
        {
          "output_type": "display_data",
          "data": {
            "text/plain": [
              "<Figure size 1440x1152 with 2 Axes>"
            ],
            "image/png": "[encoded data removed]"
          },
          "metadata": {
            "needs_background": "light"
          }
        }
      ]
    },
    {
      "cell_type": "markdown",
      "source": [
        "**Observation:**\n",
        "There is no co-relation between the features."
      ],
      "metadata": {
        "id": "f-JzM4tVgIes"
      }
    },
    {
      "cell_type": "code",
      "source": [
        "#plotting histogram to check distribution of data \n",
        "for col in p_data.columns.values:\n",
        "  if (p_data[col].dtypes == 'float64')| (p_data[col].dtypes == 'object'):\n",
        "    plt.hist(p_data[col])\n",
        "    plt.xlabel(col)\n",
        "    plt.show()"
      ],
      "metadata": {
        "colab": {
          "base_uri": "https://localhost:8080/",
          "height": 1000
        },
        "id": "vrElPWduw7SD",
        "outputId": "bf90ffc9-8365-4851-fa0a-1c46e27ac01d"
      },
      "execution_count": 47,
      "outputs": [
        {
          "output_type": "display_data",
          "data": {
            "text/plain": [
              "<Figure size 432x288 with 1 Axes>"
            ],
            "image/png": "[encoded data removed]"
          },
          "metadata": {
            "needs_background": "light"
          }
        },
        {
          "output_type": "display_data",
          "data": {
            "text/plain": [
              "<Figure size 432x288 with 1 Axes>"
            ],
            "image/png": "[encoded data removed]"
          },
          "metadata": {
            "needs_background": "light"
          }
        },
        {
          "output_type": "display_data",
          "data": {
            "text/plain": [
              "<Figure size 432x288 with 1 Axes>"
            ],
            "image/png": "[encoded data removed]"
          },
          "metadata": {
            "needs_background": "light"
          }
        },
        {
          "output_type": "display_data",
          "data": {
            "text/plain": [
              "<Figure size 432x288 with 1 Axes>"
            ],
            "image/png": "[encoded data removed]"
          },
          "metadata": {
            "needs_background": "light"
          }
        },
        {
          "output_type": "display_data",
          "data": {
            "text/plain": [
              "<Figure size 432x288 with 1 Axes>"
            ],
            "image/png": "[encoded data removed]"
          },
          "metadata": {
            "needs_background": "light"
          }
        },
        {
          "output_type": "display_data",
          "data": {
            "text/plain": [
              "<Figure size 432x288 with 1 Axes>"
            ],
            "image/png": "[encoded data removed]"
          },
          "metadata": {
            "needs_background": "light"
          }
        },
        {
          "output_type": "display_data",
          "data": {
            "text/plain": [
              "<Figure size 432x288 with 1 Axes>"
            ],
            "image/png": "[encoded data removed]"
          },
          "metadata": {
            "needs_background": "light"
          }
        }
      ]
    },
    {
      "cell_type": "markdown",
      "source": [
        "**Observation:**\n",
        "All data variables are  following normal distribution. And, standard scalar is used for normal distribution. "
      ],
      "metadata": {
        "id": "yuX1e_B9fUMG"
      }
    },
    {
      "cell_type": "code",
      "source": [
        "#data is scaled by using standard scalar \n",
        "scaling = StandardScaler()\n",
        "coln_names = ['x1','x2','x3','x4','x5','x6','x7']\n",
        "p_data_scaled = p_data.copy()\n",
        "variables= p_data_scaled[coln_names]\n",
        "p_data_scaled[coln_names] = scaling.fit_transform(variables.values)\n",
        "p_data_scaled"
      ],
      "metadata": {
        "colab": {
          "base_uri": "https://localhost:8080/",
          "height": 423
        },
        "id": "jD7taWXdxJzY",
        "outputId": "362903fd-f72e-49a4-e0e7-606d59783c69"
      },
      "execution_count": 48,
      "outputs": [
        {
          "output_type": "execute_result",
          "data": {
            "text/plain": [
              "           x1        x2        x3        x4        x5        x6        x7\n",
              "0   -0.879702  0.203581 -0.717812  0.937130  0.240310  0.572178  0.817830\n",
              "1    0.066901 -0.164833 -0.013778 -0.047812  0.151606  0.102283 -0.215624\n",
              "2    0.495178 -0.172416  0.550176  0.052044 -0.800676 -0.988900  0.835247\n",
              "3   -1.819170  0.021640 -1.688840  2.220573  0.934360  1.570859  1.551955\n",
              "4    0.554357  0.089743  0.524348 -0.855438 -0.236998 -0.409231 -0.720773\n",
              "..        ...       ...       ...       ...       ...       ...       ...\n",
              "185 -0.773213 -0.576244 -1.161643  0.667887  1.224821  1.183561 -0.402035\n",
              "186 -0.709632 -0.290830 -0.892252  0.569165  0.929327  1.011354 -0.329898\n",
              "187  0.772651 -0.392573  0.655262 -0.481353 -0.572374 -1.026142  0.083640\n",
              "188  0.801322 -0.804456  0.393756 -0.321174 -0.077670 -0.584359 -0.292914\n",
              "189  1.023851 -0.906317  0.523548 -0.527665  0.020583 -0.578005 -0.433100\n",
              "\n",
              "[190 rows x 7 columns]"
            ],
            "text/html": [
              "\n",
              "  <div id=\"df-ede4ac85-a49b-46f5-8af3-6b83ae340d5d\">\n",
              "    <div class=\"colab-df-container\">\n",
              "      <div>\n",
              "<style scoped>\n",
              "    .dataframe tbody tr th:only-of-type {\n",
              "        vertical-align: middle;\n",
              "    }\n",
              "\n",
              "    .dataframe tbody tr th {\n",
              "        vertical-align: top;\n",
              "    }\n",
              "\n",
              "    .dataframe thead th {\n",
              "        text-align: right;\n",
              "    }\n",
              "</style>\n",
              "<table border=\"1\" class=\"dataframe\">\n",
              "  <thead>\n",
              "    <tr style=\"text-align: right;\">\n",
              "      <th></th>\n",
              "      <th>x1</th>\n",
              "      <th>x2</th>\n",
              "      <th>x3</th>\n",
              "      <th>x4</th>\n",
              "      <th>x5</th>\n",
              "      <th>x6</th>\n",
              "      <th>x7</th>\n",
              "    </tr>\n",
              "  </thead>\n",
              "  <tbody>\n",
              "    <tr>\n",
              "      <th>0</th>\n",
              "      <td>-0.879702</td>\n",
              "      <td>0.203581</td>\n",
              "      <td>-0.717812</td>\n",
              "      <td>0.937130</td>\n",
              "      <td>0.240310</td>\n",
              "      <td>0.572178</td>\n",
              "      <td>0.817830</td>\n",
              "    </tr>\n",
              "    <tr>\n",
              "      <th>1</th>\n",
              "      <td>0.066901</td>\n",
              "      <td>-0.164833</td>\n",
              "      <td>-0.013778</td>\n",
              "      <td>-0.047812</td>\n",
              "      <td>0.151606</td>\n",
              "      <td>0.102283</td>\n",
              "      <td>-0.215624</td>\n",
              "    </tr>\n",
              "    <tr>\n",
              "      <th>2</th>\n",
              "      <td>0.495178</td>\n",
              "      <td>-0.172416</td>\n",
              "      <td>0.550176</td>\n",
              "      <td>0.052044</td>\n",
              "      <td>-0.800676</td>\n",
              "      <td>-0.988900</td>\n",
              "      <td>0.835247</td>\n",
              "    </tr>\n",
              "    <tr>\n",
              "      <th>3</th>\n",
              "      <td>-1.819170</td>\n",
              "      <td>0.021640</td>\n",
              "      <td>-1.688840</td>\n",
              "      <td>2.220573</td>\n",
              "      <td>0.934360</td>\n",
              "      <td>1.570859</td>\n",
              "      <td>1.551955</td>\n",
              "    </tr>\n",
              "    <tr>\n",
              "      <th>4</th>\n",
              "      <td>0.554357</td>\n",
              "      <td>0.089743</td>\n",
              "      <td>0.524348</td>\n",
              "      <td>-0.855438</td>\n",
              "      <td>-0.236998</td>\n",
              "      <td>-0.409231</td>\n",
              "      <td>-0.720773</td>\n",
              "    </tr>\n",
              "    <tr>\n",
              "      <th>...</th>\n",
              "      <td>...</td>\n",
              "      <td>...</td>\n",
              "      <td>...</td>\n",
              "      <td>...</td>\n",
              "      <td>...</td>\n",
              "      <td>...</td>\n",
              "      <td>...</td>\n",
              "    </tr>\n",
              "    <tr>\n",
              "      <th>185</th>\n",
              "      <td>-0.773213</td>\n",
              "      <td>-0.576244</td>\n",
              "      <td>-1.161643</td>\n",
              "      <td>0.667887</td>\n",
              "      <td>1.224821</td>\n",
              "      <td>1.183561</td>\n",
              "      <td>-0.402035</td>\n",
              "    </tr>\n",
              "    <tr>\n",
              "      <th>186</th>\n",
              "      <td>-0.709632</td>\n",
              "      <td>-0.290830</td>\n",
              "      <td>-0.892252</td>\n",
              "      <td>0.569165</td>\n",
              "      <td>0.929327</td>\n",
              "      <td>1.011354</td>\n",
              "      <td>-0.329898</td>\n",
              "    </tr>\n",
              "    <tr>\n",
              "      <th>187</th>\n",
              "      <td>0.772651</td>\n",
              "      <td>-0.392573</td>\n",
              "      <td>0.655262</td>\n",
              "      <td>-0.481353</td>\n",
              "      <td>-0.572374</td>\n",
              "      <td>-1.026142</td>\n",
              "      <td>0.083640</td>\n",
              "    </tr>\n",
              "    <tr>\n",
              "      <th>188</th>\n",
              "      <td>0.801322</td>\n",
              "      <td>-0.804456</td>\n",
              "      <td>0.393756</td>\n",
              "      <td>-0.321174</td>\n",
              "      <td>-0.077670</td>\n",
              "      <td>-0.584359</td>\n",
              "      <td>-0.292914</td>\n",
              "    </tr>\n",
              "    <tr>\n",
              "      <th>189</th>\n",
              "      <td>1.023851</td>\n",
              "      <td>-0.906317</td>\n",
              "      <td>0.523548</td>\n",
              "      <td>-0.527665</td>\n",
              "      <td>0.020583</td>\n",
              "      <td>-0.578005</td>\n",
              "      <td>-0.433100</td>\n",
              "    </tr>\n",
              "  </tbody>\n",
              "</table>\n",
              "<p>190 rows × 7 columns</p>\n",
              "</div>\n",
              "      <button class=\"colab-df-convert\" onclick=\"convertToInteractive('df-ede4ac85-a49b-46f5-8af3-6b83ae340d5d')\"\n",
              "              title=\"Convert this dataframe to an interactive table.\"\n",
              "              style=\"display:none;\">\n",
              "        \n",
              "  <svg xmlns=\"http://www.w3.org/2000/svg\" height=\"24px\"viewBox=\"0 0 24 24\"\n",
              "       width=\"24px\">\n",
              "    <path d=\"M0 0h24v24H0V0z\" fill=\"none\"/>\n",
              "    <path d=\"M18.56 5.44l.94 2.06.94-2.06 2.06-.94-2.06-.94-.94-2.06-.94 2.06-2.06.94zm-11 1L8.5 8.5l.94-2.06 2.06-.94-2.06-.94L8.5 2.5l-.94 2.06-2.06.94zm10 10l.94 2.06.94-2.06 2.06-.94-2.06-.94-.94-2.06-.94 2.06-2.06.94z\"/><path d=\"M17.41 7.96l-1.37-1.37c-.4-.4-.92-.59-1.43-.59-.52 0-1.04.2-1.43.59L10.3 9.45l-7.72 7.72c-.78.78-.78 2.05 0 2.83L4 21.41c.39.39.9.59 1.41.59.51 0 1.02-.2 1.41-.59l7.78-7.78 2.81-2.81c.8-.78.8-2.07 0-2.86zM5.41 20L4 18.59l7.72-7.72 1.47 1.35L5.41 20z\"/>\n",
              "  </svg>\n",
              "      </button>\n",
              "      \n",
              "  <style>\n",
              "    .colab-df-container {\n",
              "      display:flex;\n",
              "      flex-wrap:wrap;\n",
              "      gap: 12px;\n",
              "    }\n",
              "\n",
              "    .colab-df-convert {\n",
              "      background-color: #E8F0FE;\n",
              "      border: none;\n",
              "      border-radius: 50%;\n",
              "      cursor: pointer;\n",
              "      display: none;\n",
              "      fill: #1967D2;\n",
              "      height: 32px;\n",
              "      padding: 0 0 0 0;\n",
              "      width: 32px;\n",
              "    }\n",
              "\n",
              "    .colab-df-convert:hover {\n",
              "      background-color: #E2EBFA;\n",
              "      box-shadow: 0px 1px 2px rgba(60, 64, 67, 0.3), 0px 1px 3px 1px rgba(60, 64, 67, 0.15);\n",
              "      fill: #174EA6;\n",
              "    }\n",
              "\n",
              "    [theme=dark] .colab-df-convert {\n",
              "      background-color: #3B4455;\n",
              "      fill: #D2E3FC;\n",
              "    }\n",
              "\n",
              "    [theme=dark] .colab-df-convert:hover {\n",
              "      background-color: #434B5C;\n",
              "      box-shadow: 0px 1px 3px 1px rgba(0, 0, 0, 0.15);\n",
              "      filter: drop-shadow(0px 1px 2px rgba(0, 0, 0, 0.3));\n",
              "      fill: #FFFFFF;\n",
              "    }\n",
              "  </style>\n",
              "\n",
              "      <script>\n",
              "        const buttonEl =\n",
              "          document.querySelector('#df-ede4ac85-a49b-46f5-8af3-6b83ae340d5d button.colab-df-convert');\n",
              "        buttonEl.style.display =\n",
              "          google.colab.kernel.accessAllowed ? 'block' : 'none';\n",
              "\n",
              "        async function convertToInteractive(key) {\n",
              "          const element = document.querySelector('#df-ede4ac85-a49b-46f5-8af3-6b83ae340d5d');\n",
              "          const dataTable =\n",
              "            await google.colab.kernel.invokeFunction('convertToInteractive',\n",
              "                                                     [key], {});\n",
              "          if (!dataTable) return;\n",
              "\n",
              "          const docLinkHtml = 'Like what you see? Visit the ' +\n",
              "            '<a target=\"_blank\" href=https://colab.research.google.com/notebooks/data_table.ipynb>data table notebook</a>'\n",
              "            + ' to learn more about interactive tables.';\n",
              "          element.innerHTML = '';\n",
              "          dataTable['output_type'] = 'display_data';\n",
              "          await google.colab.output.renderOutput(dataTable, element);\n",
              "          const docLink = document.createElement('div');\n",
              "          docLink.innerHTML = docLinkHtml;\n",
              "          element.appendChild(docLink);\n",
              "        }\n",
              "      </script>\n",
              "    </div>\n",
              "  </div>\n",
              "  "
            ]
          },
          "metadata": {},
          "execution_count": 48
        }
      ]
    },
    {
      "cell_type": "markdown",
      "source": [
        "**3.(b) Training of PCA**"
      ],
      "metadata": {
        "id": "cAnHrrSgyZdd"
      }
    },
    {
      "cell_type": "code",
      "source": [
        "#training PCA algorithm\n",
        "from sklearn.decomposition import PCA\n",
        "\n",
        "pca = PCA()\n",
        "p_data_scaled = pca.fit_transform(p_data_scaled)"
      ],
      "metadata": {
        "id": "TWzdJeIryY-m"
      },
      "execution_count": 49,
      "outputs": []
    },
    {
      "cell_type": "code",
      "source": [
        "#calculation of explained variance\n",
        "explained_variance = pca.explained_variance_ratio_\n",
        "explained_variance"
      ],
      "metadata": {
        "colab": {
          "base_uri": "https://localhost:8080/"
        },
        "id": "l1dap512P4KR",
        "outputId": "5580b718-e91b-4b6d-834e-dc0369452b4f"
      },
      "execution_count": 50,
      "outputs": [
        {
          "output_type": "execute_result",
          "data": {
            "text/plain": [
              "array([6.09270567e-01, 3.19460967e-01, 6.49562011e-02, 6.07238580e-03,\n",
              "       2.16027661e-04, 1.98460843e-05, 4.00494511e-06])"
            ]
          },
          "metadata": {},
          "execution_count": 50
        }
      ]
    },
    {
      "cell_type": "markdown",
      "source": [
        "**Observation:**\n",
        "By looking at explained variance values it can be seen that 2 PCA dimensions are sufficient to explain data."
      ],
      "metadata": {
        "id": "BTPZLmSMd74v"
      }
    },
    {
      "cell_type": "code",
      "source": [
        "#scaling data after PCA dimension reduction\n",
        "pca = PCA(n_components=2)\n",
        "p_data_scaled_train = pca.fit_transform(p_data_scaled)\n"
      ],
      "metadata": {
        "id": "6ot1Fmk9aCY9"
      },
      "execution_count": 51,
      "outputs": []
    },
    {
      "cell_type": "code",
      "source": [
        "#plotting pair-wise scatter plot\n",
        "plt.figure(figsize=(8,6))\n",
        "plt.scatter(p_data_scaled_train[:,0],p_data_scaled_train[:,1])\n"
      ],
      "metadata": {
        "colab": {
          "base_uri": "https://localhost:8080/",
          "height": 391
        },
        "id": "M7COy9-GTA9Z",
        "outputId": "c03860cc-6c78-47c7-e91f-80ed5903f814"
      },
      "execution_count": 52,
      "outputs": [
        {
          "output_type": "execute_result",
          "data": {
            "text/plain": [
              "<matplotlib.collections.PathCollection at 0x7fae0e149bd0>"
            ]
          },
          "metadata": {},
          "execution_count": 52
        },
        {
          "output_type": "display_data",
          "data": {
            "text/plain": [
              "<Figure size 576x432 with 1 Axes>"
            ],
            "image/png": "[encoded data removed]"
          },
          "metadata": {
            "needs_background": "light"
          }
        }
      ]
    },
    {
      "cell_type": "markdown",
      "source": [
        "**3.(c) Plot for variance explained versus PCA dimensions**"
      ],
      "metadata": {
        "id": "AuuTwLNFfHkQ"
      }
    },
    {
      "cell_type": "code",
      "source": [
        "import numpy as np\n",
        "plt.plot(np.cumsum(explained_variance))\n",
        "plt.xlabel('PCA Dimensions')\n",
        "plt.ylabel('Variance explained');"
      ],
      "metadata": {
        "colab": {
          "base_uri": "https://localhost:8080/",
          "height": 279
        },
        "id": "sdpcsWclgZgA",
        "outputId": "5209036a-d059-4073-a34b-9358582f278e"
      },
      "execution_count": 53,
      "outputs": [
        {
          "output_type": "display_data",
          "data": {
            "text/plain": [
              "<Figure size 432x288 with 1 Axes>"
            ],
            "image/png": "[encoded data removed]"
          },
          "metadata": {
            "needs_background": "light"
          }
        }
      ]
    },
    {
      "cell_type": "markdown",
      "source": [
        "**Observation:**\n",
        "Using only 2 PCA dimensions, we are getting 92.87% variance explained for whole data."
      ],
      "metadata": {
        "id": "VZrFsRF-jjn9"
      }
    },
    {
      "cell_type": "markdown",
      "source": [
        "**3.(d) Reconstruction of the data with various numbers of PCA dimensions, and computation of the \n",
        "MSE**"
      ],
      "metadata": {
        "id": "6pPiKwtwm4PE"
      }
    },
    {
      "cell_type": "code",
      "source": [
        "#importing decomposition for reconstruction of the data\n",
        "import sklearn.decomposition\n",
        "\n",
        "avg = np.mean(p_data, axis=0)\n",
        "\n",
        "pca = sklearn.decomposition.PCA()\n",
        "pca.fit(p_data)"
      ],
      "metadata": {
        "colab": {
          "base_uri": "https://localhost:8080/"
        },
        "id": "0eyq4AbylJIC",
        "outputId": "b9d6a898-ba56-411b-dd29-8ee1a1f018eb"
      },
      "execution_count": 54,
      "outputs": [
        {
          "output_type": "execute_result",
          "data": {
            "text/plain": [
              "PCA()"
            ]
          },
          "metadata": {},
          "execution_count": 54
        }
      ]
    },
    {
      "cell_type": "code",
      "source": [
        "#reconstruction with PCA dimension 1\n",
        "pca_dim_no = 1\n",
        "pca_data_reconstructed = np.dot(pca.transform(p_data)[:,:pca_dim_no], pca.components_[:pca_dim_no,:])\n",
        "pca_data_reconstructed += avg\n",
        "\n",
        "print(pca_data_reconstructed[0,])"
      ],
      "metadata": {
        "colab": {
          "base_uri": "https://localhost:8080/"
        },
        "id": "XfNPtugcm7z_",
        "outputId": "2982a1e0-2a3a-48ff-b929-251c2567fd1f"
      },
      "execution_count": 55,
      "outputs": [
        {
          "output_type": "stream",
          "name": "stdout",
          "text": [
            "[ 0.86677383 -1.15305581  4.79880433  4.19955326  4.41841592 -0.04480441\n",
            " -0.01550705]\n"
          ]
        }
      ]
    },
    {
      "cell_type": "code",
      "source": [
        "#printing mean squared error\n",
        "MSE_reconstructed_data= ((pca_data_reconstructed[0,]-avg)*(pca_data_reconstructed[0,]-avg))/7\n",
        "MSE_reconstructed_data"
      ],
      "metadata": {
        "colab": {
          "base_uri": "https://localhost:8080/"
        },
        "id": "4ousW1OekxLA",
        "outputId": "6b03b565-24d8-42e7-f405-50cbf5fbae21"
      },
      "execution_count": 56,
      "outputs": [
        {
          "output_type": "execute_result",
          "data": {
            "text/plain": [
              "x1    0.025184\n",
              "x2    0.000043\n",
              "x3    0.029718\n",
              "x4    0.104933\n",
              "x5    0.004871\n",
              "x6    0.019360\n",
              "x7    0.001532\n",
              "dtype: float64"
            ]
          },
          "metadata": {},
          "execution_count": 56
        }
      ]
    },
    {
      "cell_type": "code",
      "source": [
        "#reconstruction with PCA dimension 2\n",
        "pca_dim_no = 2\n",
        "pca_data_reconstructed = np.dot(pca.transform(p_data)[:,:pca_dim_no], pca.components_[:pca_dim_no,:])\n",
        "pca_data_reconstructed += avg\n",
        "\n",
        "print(pca_data_reconstructed[0,])"
      ],
      "metadata": {
        "colab": {
          "base_uri": "https://localhost:8080/"
        },
        "id": "MsBSsRKVlBV7",
        "outputId": "458e4092-8ffd-4228-9afa-d440567efb8a"
      },
      "execution_count": 57,
      "outputs": [
        {
          "output_type": "stream",
          "name": "stdout",
          "text": [
            "[ 0.82503126 -1.07500521  4.86773628  4.26372351  4.31215939 -0.12396265\n",
            "  0.07175024]\n"
          ]
        }
      ]
    },
    {
      "cell_type": "code",
      "source": [
        "#printing mean squared error\n",
        "MSE_reconstructed_data= ((pca_data_reconstructed[0,]-avg)*(pca_data_reconstructed[0,]-avg))/7\n",
        "MSE_reconstructed_data"
      ],
      "metadata": {
        "colab": {
          "base_uri": "https://localhost:8080/"
        },
        "id": "PpXEtBOalyyO",
        "outputId": "2fee7169-733f-4ed8-af94-5b77b856341d"
      },
      "execution_count": 58,
      "outputs": [
        {
          "output_type": "execute_result",
          "data": {
            "text/plain": [
              "x1    0.030441\n",
              "x2    0.000526\n",
              "x3    0.021414\n",
              "x4    0.121235\n",
              "x5    0.000878\n",
              "x6    0.011929\n",
              "x7    0.005201\n",
              "dtype: float64"
            ]
          },
          "metadata": {},
          "execution_count": 58
        }
      ]
    },
    {
      "cell_type": "code",
      "source": [
        "#reconstruction with PCA dimension 3\n",
        "pca_dim_no = 3\n",
        "pca_data_reconstructed = np.dot(pca.transform(p_data)[:,:pca_dim_no], pca.components_[:pca_dim_no,:])\n",
        "pca_data_reconstructed += avg\n",
        "\n",
        "print(pca_data_reconstructed[0,])"
      ],
      "metadata": {
        "colab": {
          "base_uri": "https://localhost:8080/"
        },
        "id": "-jxlO2u-l7HO",
        "outputId": "f25e036d-8a29-4968-d607-662ef8d53367"
      },
      "execution_count": 59,
      "outputs": [
        {
          "output_type": "stream",
          "name": "stdout",
          "text": [
            "[ 0.83815281 -1.08975748  4.86681858  4.27423322  4.31469273 -0.13749225\n",
            "  0.07503024]\n"
          ]
        }
      ]
    },
    {
      "cell_type": "code",
      "source": [
        "#printing mean squared error\n",
        "MSE_reconstructed_data= ((pca_data_reconstructed[0,]-avg)*(pca_data_reconstructed[0,]-avg))/7\n",
        "MSE_reconstructed_data"
      ],
      "metadata": {
        "colab": {
          "base_uri": "https://localhost:8080/"
        },
        "id": "vICX8StCl4t_",
        "outputId": "94abc865-429a-4473-821a-98e97f7e5cdc"
      },
      "execution_count": 60,
      "outputs": [
        {
          "output_type": "execute_result",
          "data": {
            "text/plain": [
              "x1    0.028735\n",
              "x2    0.000301\n",
              "x3    0.021516\n",
              "x4    0.124017\n",
              "x5    0.000936\n",
              "x6    0.010839\n",
              "x7    0.005381\n",
              "dtype: float64"
            ]
          },
          "metadata": {},
          "execution_count": 60
        }
      ]
    },
    {
      "cell_type": "markdown",
      "source": [
        "**References:**\n",
        "\n",
        "1.https://www.youtube.com/watch?v=Ato-hcv0NK0&list=PLZKhx5nBXhfhL28m4mjIM5kSwh5gUV2k6&index=3\n",
        "\n",
        "2.https://scikit-learn.org/stable/modules/generated/sklearn.preprocessing.StandardScaler.html\n",
        "\n",
        "3.https://scikit-learn.org/stable/modules/generated/sklearn.decomposition.PCA.html\n",
        "\n",
        "4.https://scikit-learn.org/stable/modules/generated/sklearn.feature_extraction.image.reconstruct_from_patches_2d.html"
      ],
      "metadata": {
        "id": "v5_wmItSmDqu"
      }
    }
  ]
}